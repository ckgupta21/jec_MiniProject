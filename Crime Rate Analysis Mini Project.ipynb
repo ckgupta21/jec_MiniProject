{
 "cells": [
  {
   "cell_type": "code",
   "execution_count": 1,
   "metadata": {},
   "outputs": [],
   "source": [
    "import pandas as pd\n",
    "import numpy as np\n",
    "import matplotlib.pyplot as plt"
   ]
  },
  {
   "cell_type": "code",
   "execution_count": 2,
   "metadata": {},
   "outputs": [
    {
     "data": {
      "text/html": [
       "<div>\n",
       "<style scoped>\n",
       "    .dataframe tbody tr th:only-of-type {\n",
       "        vertical-align: middle;\n",
       "    }\n",
       "\n",
       "    .dataframe tbody tr th {\n",
       "        vertical-align: top;\n",
       "    }\n",
       "\n",
       "    .dataframe thead th {\n",
       "        text-align: right;\n",
       "    }\n",
       "</style>\n",
       "<table border=\"1\" class=\"dataframe\">\n",
       "  <thead>\n",
       "    <tr style=\"text-align: right;\">\n",
       "      <th></th>\n",
       "      <th>Area_Name</th>\n",
       "      <th>Year</th>\n",
       "      <th>Group_Name</th>\n",
       "      <th>Sub_Group_Name</th>\n",
       "      <th>Victims_Above_50_Yrs</th>\n",
       "      <th>Victims_Total</th>\n",
       "      <th>Victims_Upto_10_15_Yrs</th>\n",
       "      <th>Victims_Upto_10_Yrs</th>\n",
       "      <th>Victims_Upto_15_18_Yrs</th>\n",
       "      <th>Victims_Upto_18_30_Yrs</th>\n",
       "      <th>Victims_Upto_30_50_Yrs</th>\n",
       "    </tr>\n",
       "  </thead>\n",
       "  <tbody>\n",
       "    <tr>\n",
       "      <th>0</th>\n",
       "      <td>Andaman &amp; Nicobar Islands</td>\n",
       "      <td>2001</td>\n",
       "      <td>Murder - Female Victims</td>\n",
       "      <td>2. Female Victims</td>\n",
       "      <td>NaN</td>\n",
       "      <td>6</td>\n",
       "      <td>NaN</td>\n",
       "      <td>NaN</td>\n",
       "      <td>NaN</td>\n",
       "      <td>4.0</td>\n",
       "      <td>2.0</td>\n",
       "    </tr>\n",
       "    <tr>\n",
       "      <th>1</th>\n",
       "      <td>Andhra Pradesh</td>\n",
       "      <td>2001</td>\n",
       "      <td>Murder - Female Victims</td>\n",
       "      <td>2. Female Victims</td>\n",
       "      <td>67.0</td>\n",
       "      <td>607</td>\n",
       "      <td>15.0</td>\n",
       "      <td>38.0</td>\n",
       "      <td>43.0</td>\n",
       "      <td>269.0</td>\n",
       "      <td>175.0</td>\n",
       "    </tr>\n",
       "    <tr>\n",
       "      <th>2</th>\n",
       "      <td>Arunachal Pradesh</td>\n",
       "      <td>2001</td>\n",
       "      <td>Murder - Female Victims</td>\n",
       "      <td>2. Female Victims</td>\n",
       "      <td>2.0</td>\n",
       "      <td>16</td>\n",
       "      <td>0.0</td>\n",
       "      <td>0.0</td>\n",
       "      <td>0.0</td>\n",
       "      <td>10.0</td>\n",
       "      <td>4.0</td>\n",
       "    </tr>\n",
       "    <tr>\n",
       "      <th>3</th>\n",
       "      <td>Assam</td>\n",
       "      <td>2001</td>\n",
       "      <td>Murder - Female Victims</td>\n",
       "      <td>2. Female Victims</td>\n",
       "      <td>11.0</td>\n",
       "      <td>128</td>\n",
       "      <td>8.0</td>\n",
       "      <td>4.0</td>\n",
       "      <td>23.0</td>\n",
       "      <td>45.0</td>\n",
       "      <td>37.0</td>\n",
       "    </tr>\n",
       "    <tr>\n",
       "      <th>4</th>\n",
       "      <td>Bihar</td>\n",
       "      <td>2001</td>\n",
       "      <td>Murder - Female Victims</td>\n",
       "      <td>2. Female Victims</td>\n",
       "      <td>12.0</td>\n",
       "      <td>366</td>\n",
       "      <td>0.0</td>\n",
       "      <td>0.0</td>\n",
       "      <td>40.0</td>\n",
       "      <td>191.0</td>\n",
       "      <td>123.0</td>\n",
       "    </tr>\n",
       "    <tr>\n",
       "      <th>...</th>\n",
       "      <td>...</td>\n",
       "      <td>...</td>\n",
       "      <td>...</td>\n",
       "      <td>...</td>\n",
       "      <td>...</td>\n",
       "      <td>...</td>\n",
       "      <td>...</td>\n",
       "      <td>...</td>\n",
       "      <td>...</td>\n",
       "      <td>...</td>\n",
       "      <td>...</td>\n",
       "    </tr>\n",
       "    <tr>\n",
       "      <th>1013</th>\n",
       "      <td>Tamil Nadu</td>\n",
       "      <td>2010</td>\n",
       "      <td>Murder - Total Victims</td>\n",
       "      <td>3. Total</td>\n",
       "      <td>327.0</td>\n",
       "      <td>1908</td>\n",
       "      <td>13.0</td>\n",
       "      <td>63.0</td>\n",
       "      <td>16.0</td>\n",
       "      <td>650.0</td>\n",
       "      <td>839.0</td>\n",
       "    </tr>\n",
       "    <tr>\n",
       "      <th>1014</th>\n",
       "      <td>Tripura</td>\n",
       "      <td>2010</td>\n",
       "      <td>Murder - Total Victims</td>\n",
       "      <td>3. Total</td>\n",
       "      <td>24.0</td>\n",
       "      <td>159</td>\n",
       "      <td>2.0</td>\n",
       "      <td>0.0</td>\n",
       "      <td>0.0</td>\n",
       "      <td>60.0</td>\n",
       "      <td>73.0</td>\n",
       "    </tr>\n",
       "    <tr>\n",
       "      <th>1015</th>\n",
       "      <td>Uttar Pradesh</td>\n",
       "      <td>2010</td>\n",
       "      <td>Murder - Total Victims</td>\n",
       "      <td>3. Total</td>\n",
       "      <td>344.0</td>\n",
       "      <td>4456</td>\n",
       "      <td>82.0</td>\n",
       "      <td>138.0</td>\n",
       "      <td>126.0</td>\n",
       "      <td>2358.0</td>\n",
       "      <td>1408.0</td>\n",
       "    </tr>\n",
       "    <tr>\n",
       "      <th>1016</th>\n",
       "      <td>Uttarakhand</td>\n",
       "      <td>2010</td>\n",
       "      <td>Murder - Total Victims</td>\n",
       "      <td>3. Total</td>\n",
       "      <td>19.0</td>\n",
       "      <td>176</td>\n",
       "      <td>1.0</td>\n",
       "      <td>NaN</td>\n",
       "      <td>2.0</td>\n",
       "      <td>91.0</td>\n",
       "      <td>63.0</td>\n",
       "    </tr>\n",
       "    <tr>\n",
       "      <th>1017</th>\n",
       "      <td>West Bengal</td>\n",
       "      <td>2010</td>\n",
       "      <td>Murder - Total Victims</td>\n",
       "      <td>3. Total</td>\n",
       "      <td>120.0</td>\n",
       "      <td>2415</td>\n",
       "      <td>8.0</td>\n",
       "      <td>2.0</td>\n",
       "      <td>6.0</td>\n",
       "      <td>1177.0</td>\n",
       "      <td>1102.0</td>\n",
       "    </tr>\n",
       "  </tbody>\n",
       "</table>\n",
       "<p>1018 rows × 11 columns</p>\n",
       "</div>"
      ],
      "text/plain": [
       "                      Area_Name  Year               Group_Name  \\\n",
       "0     Andaman & Nicobar Islands  2001  Murder - Female Victims   \n",
       "1                Andhra Pradesh  2001  Murder - Female Victims   \n",
       "2             Arunachal Pradesh  2001  Murder - Female Victims   \n",
       "3                         Assam  2001  Murder - Female Victims   \n",
       "4                         Bihar  2001  Murder - Female Victims   \n",
       "...                         ...   ...                      ...   \n",
       "1013                 Tamil Nadu  2010   Murder - Total Victims   \n",
       "1014                    Tripura  2010   Murder - Total Victims   \n",
       "1015              Uttar Pradesh  2010   Murder - Total Victims   \n",
       "1016                Uttarakhand  2010   Murder - Total Victims   \n",
       "1017                West Bengal  2010   Murder - Total Victims   \n",
       "\n",
       "         Sub_Group_Name  Victims_Above_50_Yrs  Victims_Total  \\\n",
       "0     2. Female Victims                   NaN              6   \n",
       "1     2. Female Victims                  67.0            607   \n",
       "2     2. Female Victims                   2.0             16   \n",
       "3     2. Female Victims                  11.0            128   \n",
       "4     2. Female Victims                  12.0            366   \n",
       "...                 ...                   ...            ...   \n",
       "1013           3. Total                 327.0           1908   \n",
       "1014           3. Total                  24.0            159   \n",
       "1015           3. Total                 344.0           4456   \n",
       "1016           3. Total                  19.0            176   \n",
       "1017           3. Total                 120.0           2415   \n",
       "\n",
       "      Victims_Upto_10_15_Yrs  Victims_Upto_10_Yrs  Victims_Upto_15_18_Yrs  \\\n",
       "0                        NaN                  NaN                     NaN   \n",
       "1                       15.0                 38.0                    43.0   \n",
       "2                        0.0                  0.0                     0.0   \n",
       "3                        8.0                  4.0                    23.0   \n",
       "4                        0.0                  0.0                    40.0   \n",
       "...                      ...                  ...                     ...   \n",
       "1013                    13.0                 63.0                    16.0   \n",
       "1014                     2.0                  0.0                     0.0   \n",
       "1015                    82.0                138.0                   126.0   \n",
       "1016                     1.0                  NaN                     2.0   \n",
       "1017                     8.0                  2.0                     6.0   \n",
       "\n",
       "      Victims_Upto_18_30_Yrs  Victims_Upto_30_50_Yrs  \n",
       "0                        4.0                     2.0  \n",
       "1                      269.0                   175.0  \n",
       "2                       10.0                     4.0  \n",
       "3                       45.0                    37.0  \n",
       "4                      191.0                   123.0  \n",
       "...                      ...                     ...  \n",
       "1013                   650.0                   839.0  \n",
       "1014                    60.0                    73.0  \n",
       "1015                  2358.0                  1408.0  \n",
       "1016                    91.0                    63.0  \n",
       "1017                  1177.0                  1102.0  \n",
       "\n",
       "[1018 rows x 11 columns]"
      ]
     },
     "execution_count": 2,
     "metadata": {},
     "output_type": "execute_result"
    }
   ],
   "source": [
    "df=pd.read_csv(r\"C:\\Users\\91910\\Desktop\\Data Analytics\\Sample csv files\\32_Murder_victim_age_sex.csv\")\n",
    "df"
   ]
  },
  {
   "cell_type": "code",
   "execution_count": 3,
   "metadata": {},
   "outputs": [
    {
     "data": {
      "text/html": [
       "<div>\n",
       "<style scoped>\n",
       "    .dataframe tbody tr th:only-of-type {\n",
       "        vertical-align: middle;\n",
       "    }\n",
       "\n",
       "    .dataframe tbody tr th {\n",
       "        vertical-align: top;\n",
       "    }\n",
       "\n",
       "    .dataframe thead th {\n",
       "        text-align: right;\n",
       "    }\n",
       "</style>\n",
       "<table border=\"1\" class=\"dataframe\">\n",
       "  <thead>\n",
       "    <tr style=\"text-align: right;\">\n",
       "      <th></th>\n",
       "      <th>Year</th>\n",
       "      <th>State</th>\n",
       "      <th>Gender Group</th>\n",
       "      <th>Number Of Vicitms Between 18-30 Years</th>\n",
       "      <th>Number Of Vicitms Between 30-50 Years</th>\n",
       "      <th>Number Of Vicitms Between Above 50 Years</th>\n",
       "    </tr>\n",
       "  </thead>\n",
       "  <tbody>\n",
       "    <tr>\n",
       "      <th>0</th>\n",
       "      <td>2001</td>\n",
       "      <td>Andaman &amp; Nicobar Islands</td>\n",
       "      <td>Murder - Female Victims</td>\n",
       "      <td>4.0</td>\n",
       "      <td>2.0</td>\n",
       "      <td>NaN</td>\n",
       "    </tr>\n",
       "    <tr>\n",
       "      <th>1</th>\n",
       "      <td>2001</td>\n",
       "      <td>Andhra Pradesh</td>\n",
       "      <td>Murder - Female Victims</td>\n",
       "      <td>269.0</td>\n",
       "      <td>175.0</td>\n",
       "      <td>67.0</td>\n",
       "    </tr>\n",
       "    <tr>\n",
       "      <th>2</th>\n",
       "      <td>2001</td>\n",
       "      <td>Arunachal Pradesh</td>\n",
       "      <td>Murder - Female Victims</td>\n",
       "      <td>10.0</td>\n",
       "      <td>4.0</td>\n",
       "      <td>2.0</td>\n",
       "    </tr>\n",
       "    <tr>\n",
       "      <th>3</th>\n",
       "      <td>2001</td>\n",
       "      <td>Assam</td>\n",
       "      <td>Murder - Female Victims</td>\n",
       "      <td>45.0</td>\n",
       "      <td>37.0</td>\n",
       "      <td>11.0</td>\n",
       "    </tr>\n",
       "    <tr>\n",
       "      <th>4</th>\n",
       "      <td>2001</td>\n",
       "      <td>Bihar</td>\n",
       "      <td>Murder - Female Victims</td>\n",
       "      <td>191.0</td>\n",
       "      <td>123.0</td>\n",
       "      <td>12.0</td>\n",
       "    </tr>\n",
       "    <tr>\n",
       "      <th>...</th>\n",
       "      <td>...</td>\n",
       "      <td>...</td>\n",
       "      <td>...</td>\n",
       "      <td>...</td>\n",
       "      <td>...</td>\n",
       "      <td>...</td>\n",
       "    </tr>\n",
       "    <tr>\n",
       "      <th>1013</th>\n",
       "      <td>2010</td>\n",
       "      <td>Tamil Nadu</td>\n",
       "      <td>Murder - Total Victims</td>\n",
       "      <td>650.0</td>\n",
       "      <td>839.0</td>\n",
       "      <td>327.0</td>\n",
       "    </tr>\n",
       "    <tr>\n",
       "      <th>1014</th>\n",
       "      <td>2010</td>\n",
       "      <td>Tripura</td>\n",
       "      <td>Murder - Total Victims</td>\n",
       "      <td>60.0</td>\n",
       "      <td>73.0</td>\n",
       "      <td>24.0</td>\n",
       "    </tr>\n",
       "    <tr>\n",
       "      <th>1015</th>\n",
       "      <td>2010</td>\n",
       "      <td>Uttar Pradesh</td>\n",
       "      <td>Murder - Total Victims</td>\n",
       "      <td>2358.0</td>\n",
       "      <td>1408.0</td>\n",
       "      <td>344.0</td>\n",
       "    </tr>\n",
       "    <tr>\n",
       "      <th>1016</th>\n",
       "      <td>2010</td>\n",
       "      <td>Uttarakhand</td>\n",
       "      <td>Murder - Total Victims</td>\n",
       "      <td>91.0</td>\n",
       "      <td>63.0</td>\n",
       "      <td>19.0</td>\n",
       "    </tr>\n",
       "    <tr>\n",
       "      <th>1017</th>\n",
       "      <td>2010</td>\n",
       "      <td>West Bengal</td>\n",
       "      <td>Murder - Total Victims</td>\n",
       "      <td>1177.0</td>\n",
       "      <td>1102.0</td>\n",
       "      <td>120.0</td>\n",
       "    </tr>\n",
       "  </tbody>\n",
       "</table>\n",
       "<p>1018 rows × 6 columns</p>\n",
       "</div>"
      ],
      "text/plain": [
       "      Year                      State             Gender Group  \\\n",
       "0     2001  Andaman & Nicobar Islands  Murder - Female Victims   \n",
       "1     2001             Andhra Pradesh  Murder - Female Victims   \n",
       "2     2001          Arunachal Pradesh  Murder - Female Victims   \n",
       "3     2001                      Assam  Murder - Female Victims   \n",
       "4     2001                      Bihar  Murder - Female Victims   \n",
       "...    ...                        ...                      ...   \n",
       "1013  2010                 Tamil Nadu   Murder - Total Victims   \n",
       "1014  2010                    Tripura   Murder - Total Victims   \n",
       "1015  2010              Uttar Pradesh   Murder - Total Victims   \n",
       "1016  2010                Uttarakhand   Murder - Total Victims   \n",
       "1017  2010                West Bengal   Murder - Total Victims   \n",
       "\n",
       "      Number Of Vicitms Between 18-30 Years  \\\n",
       "0                                       4.0   \n",
       "1                                     269.0   \n",
       "2                                      10.0   \n",
       "3                                      45.0   \n",
       "4                                     191.0   \n",
       "...                                     ...   \n",
       "1013                                  650.0   \n",
       "1014                                   60.0   \n",
       "1015                                 2358.0   \n",
       "1016                                   91.0   \n",
       "1017                                 1177.0   \n",
       "\n",
       "      Number Of Vicitms Between 30-50 Years  \\\n",
       "0                                       2.0   \n",
       "1                                     175.0   \n",
       "2                                       4.0   \n",
       "3                                      37.0   \n",
       "4                                     123.0   \n",
       "...                                     ...   \n",
       "1013                                  839.0   \n",
       "1014                                   73.0   \n",
       "1015                                 1408.0   \n",
       "1016                                   63.0   \n",
       "1017                                 1102.0   \n",
       "\n",
       "      Number Of Vicitms Between Above 50 Years  \n",
       "0                                          NaN  \n",
       "1                                         67.0  \n",
       "2                                          2.0  \n",
       "3                                         11.0  \n",
       "4                                         12.0  \n",
       "...                                        ...  \n",
       "1013                                     327.0  \n",
       "1014                                      24.0  \n",
       "1015                                     344.0  \n",
       "1016                                      19.0  \n",
       "1017                                     120.0  \n",
       "\n",
       "[1018 rows x 6 columns]"
      ]
     },
     "execution_count": 3,
     "metadata": {},
     "output_type": "execute_result"
    }
   ],
   "source": [
    "crime_df=pd.DataFrame({\n",
    "    \"Year\":df[\"Year\"],\n",
    "    \"State\":df[\"Area_Name\"],\n",
    "    \"Gender Group\":df[\"Group_Name\"],\n",
    "    \"Number Of Vicitms Between 18-30 Years\":df[\"Victims_Upto_18_30_Yrs\"],\n",
    "    \"Number Of Vicitms Between 30-50 Years\":df[\"Victims_Upto_30_50_Yrs\"],\n",
    "    \"Number Of Vicitms Between Above 50 Years\":df[\"Victims_Above_50_Yrs\"]\n",
    "})\n",
    "crime_df"
   ]
  },
  {
   "cell_type": "code",
   "execution_count": 4,
   "metadata": {},
   "outputs": [
    {
     "name": "stdout",
     "output_type": "stream",
     "text": [
      "<class 'pandas.core.frame.DataFrame'>\n",
      "RangeIndex: 1018 entries, 0 to 1017\n",
      "Data columns (total 6 columns):\n",
      " #   Column                                    Non-Null Count  Dtype  \n",
      "---  ------                                    --------------  -----  \n",
      " 0   Year                                      1018 non-null   int64  \n",
      " 1   State                                     1018 non-null   object \n",
      " 2   Gender Group                              1018 non-null   object \n",
      " 3   Number Of Vicitms Between 18-30 Years     1009 non-null   float64\n",
      " 4   Number Of Vicitms Between 30-50 Years     1007 non-null   float64\n",
      " 5   Number Of Vicitms Between Above 50 Years  962 non-null    float64\n",
      "dtypes: float64(3), int64(1), object(2)\n",
      "memory usage: 47.8+ KB\n"
     ]
    }
   ],
   "source": [
    "crime_df.info()"
   ]
  },
  {
   "cell_type": "code",
   "execution_count": 5,
   "metadata": {},
   "outputs": [
    {
     "data": {
      "text/plain": [
       "Year                                        False\n",
       "State                                       False\n",
       "Gender Group                                False\n",
       "Number Of Vicitms Between 18-30 Years        True\n",
       "Number Of Vicitms Between 30-50 Years        True\n",
       "Number Of Vicitms Between Above 50 Years     True\n",
       "dtype: bool"
      ]
     },
     "execution_count": 5,
     "metadata": {},
     "output_type": "execute_result"
    }
   ],
   "source": [
    "crime_df.isna().any()"
   ]
  },
  {
   "cell_type": "code",
   "execution_count": 6,
   "metadata": {},
   "outputs": [],
   "source": [
    "crime_df[\"Number Of Vicitms Between 18-30 Years\"]=crime_df[\"Number Of Vicitms Between 18-30 Years\"].fillna(crime_df[\"Number Of Vicitms Between 18-30 Years\"].mean())"
   ]
  },
  {
   "cell_type": "code",
   "execution_count": 7,
   "metadata": {},
   "outputs": [],
   "source": [
    "crime_df[\"Number Of Vicitms Between 30-50 Years\"]=crime_df[\"Number Of Vicitms Between 30-50 Years\"].fillna(crime_df[\"Number Of Vicitms Between 30-50 Years\"].mean())"
   ]
  },
  {
   "cell_type": "code",
   "execution_count": 8,
   "metadata": {},
   "outputs": [],
   "source": [
    "crime_df[\"Number Of Vicitms Between Above 50 Years\"]=crime_df[\"Number Of Vicitms Between Above 50 Years\"].fillna(crime_df[\"Number Of Vicitms Between Above 50 Years\"].mean())"
   ]
  },
  {
   "cell_type": "code",
   "execution_count": 9,
   "metadata": {},
   "outputs": [
    {
     "data": {
      "text/plain": [
       "Year                                        False\n",
       "State                                       False\n",
       "Gender Group                                False\n",
       "Number Of Vicitms Between 18-30 Years       False\n",
       "Number Of Vicitms Between 30-50 Years       False\n",
       "Number Of Vicitms Between Above 50 Years    False\n",
       "dtype: bool"
      ]
     },
     "execution_count": 9,
     "metadata": {},
     "output_type": "execute_result"
    }
   ],
   "source": [
    "crime_df.isna().any()"
   ]
  },
  {
   "cell_type": "code",
   "execution_count": 10,
   "metadata": {},
   "outputs": [
    {
     "data": {
      "text/plain": [
       "0         73.559252\n",
       "1        511.000000\n",
       "2         16.000000\n",
       "3         93.000000\n",
       "4        326.000000\n",
       "           ...     \n",
       "1013    1816.000000\n",
       "1014     157.000000\n",
       "1015    4110.000000\n",
       "1016     173.000000\n",
       "1017    2399.000000\n",
       "Name: Total Number Of Vicitms, Length: 1018, dtype: float64"
      ]
     },
     "execution_count": 10,
     "metadata": {},
     "output_type": "execute_result"
    }
   ],
   "source": [
    "crime_df[\"Total Number Of Vicitms\"]=crime_df[\"Number Of Vicitms Between 18-30 Years\"]+crime_df[\"Number Of Vicitms Between 30-50 Years\"]+crime_df[\"Number Of Vicitms Between Above 50 Years\"]\n",
    "crime_df[\"Total Number Of Vicitms\"]"
   ]
  },
  {
   "cell_type": "code",
   "execution_count": 11,
   "metadata": {},
   "outputs": [
    {
     "data": {
      "text/plain": [
       "Year                                        False\n",
       "State                                       False\n",
       "Gender Group                                False\n",
       "Number Of Vicitms Between 18-30 Years       False\n",
       "Number Of Vicitms Between 30-50 Years       False\n",
       "Number Of Vicitms Between Above 50 Years    False\n",
       "Total Number Of Vicitms                     False\n",
       "dtype: bool"
      ]
     },
     "execution_count": 11,
     "metadata": {},
     "output_type": "execute_result"
    }
   ],
   "source": [
    "crime_df.isna().any()"
   ]
  },
  {
   "cell_type": "code",
   "execution_count": 12,
   "metadata": {},
   "outputs": [],
   "source": [
    "crime_df[\"Number Of Vicitms Between 18-30 Years\"]=crime_df[\"Number Of Vicitms Between 18-30 Years\"].astype(int)"
   ]
  },
  {
   "cell_type": "code",
   "execution_count": 13,
   "metadata": {},
   "outputs": [],
   "source": [
    "crime_df[\"Number Of Vicitms Between 30-50 Years\"]=crime_df[\"Number Of Vicitms Between 30-50 Years\"].astype(int)"
   ]
  },
  {
   "cell_type": "code",
   "execution_count": 14,
   "metadata": {},
   "outputs": [],
   "source": [
    "crime_df[\"Number Of Vicitms Between Above 50 Years\"]=crime_df[\"Number Of Vicitms Between Above 50 Years\"].astype(int)"
   ]
  },
  {
   "cell_type": "code",
   "execution_count": 15,
   "metadata": {},
   "outputs": [],
   "source": [
    "crime_df[\"Total Number Of Vicitms\"]=crime_df[\"Total Number Of Vicitms\"].astype(int)"
   ]
  },
  {
   "cell_type": "code",
   "execution_count": 16,
   "metadata": {},
   "outputs": [
    {
     "data": {
      "text/html": [
       "<div>\n",
       "<style scoped>\n",
       "    .dataframe tbody tr th:only-of-type {\n",
       "        vertical-align: middle;\n",
       "    }\n",
       "\n",
       "    .dataframe tbody tr th {\n",
       "        vertical-align: top;\n",
       "    }\n",
       "\n",
       "    .dataframe thead th {\n",
       "        text-align: right;\n",
       "    }\n",
       "</style>\n",
       "<table border=\"1\" class=\"dataframe\">\n",
       "  <thead>\n",
       "    <tr style=\"text-align: right;\">\n",
       "      <th></th>\n",
       "      <th>Year</th>\n",
       "      <th>State</th>\n",
       "      <th>Gender Group</th>\n",
       "      <th>Number Of Vicitms Between 18-30 Years</th>\n",
       "      <th>Number Of Vicitms Between 30-50 Years</th>\n",
       "      <th>Number Of Vicitms Between Above 50 Years</th>\n",
       "      <th>Total Number Of Vicitms</th>\n",
       "    </tr>\n",
       "  </thead>\n",
       "  <tbody>\n",
       "    <tr>\n",
       "      <th>0</th>\n",
       "      <td>2001</td>\n",
       "      <td>Andaman &amp; Nicobar Islands</td>\n",
       "      <td>Murder - Female Victims</td>\n",
       "      <td>4</td>\n",
       "      <td>2</td>\n",
       "      <td>67</td>\n",
       "      <td>73</td>\n",
       "    </tr>\n",
       "    <tr>\n",
       "      <th>1</th>\n",
       "      <td>2001</td>\n",
       "      <td>Andhra Pradesh</td>\n",
       "      <td>Murder - Female Victims</td>\n",
       "      <td>269</td>\n",
       "      <td>175</td>\n",
       "      <td>67</td>\n",
       "      <td>511</td>\n",
       "    </tr>\n",
       "    <tr>\n",
       "      <th>2</th>\n",
       "      <td>2001</td>\n",
       "      <td>Arunachal Pradesh</td>\n",
       "      <td>Murder - Female Victims</td>\n",
       "      <td>10</td>\n",
       "      <td>4</td>\n",
       "      <td>2</td>\n",
       "      <td>16</td>\n",
       "    </tr>\n",
       "    <tr>\n",
       "      <th>3</th>\n",
       "      <td>2001</td>\n",
       "      <td>Assam</td>\n",
       "      <td>Murder - Female Victims</td>\n",
       "      <td>45</td>\n",
       "      <td>37</td>\n",
       "      <td>11</td>\n",
       "      <td>93</td>\n",
       "    </tr>\n",
       "    <tr>\n",
       "      <th>4</th>\n",
       "      <td>2001</td>\n",
       "      <td>Bihar</td>\n",
       "      <td>Murder - Female Victims</td>\n",
       "      <td>191</td>\n",
       "      <td>123</td>\n",
       "      <td>12</td>\n",
       "      <td>326</td>\n",
       "    </tr>\n",
       "    <tr>\n",
       "      <th>...</th>\n",
       "      <td>...</td>\n",
       "      <td>...</td>\n",
       "      <td>...</td>\n",
       "      <td>...</td>\n",
       "      <td>...</td>\n",
       "      <td>...</td>\n",
       "      <td>...</td>\n",
       "    </tr>\n",
       "    <tr>\n",
       "      <th>1013</th>\n",
       "      <td>2010</td>\n",
       "      <td>Tamil Nadu</td>\n",
       "      <td>Murder - Total Victims</td>\n",
       "      <td>650</td>\n",
       "      <td>839</td>\n",
       "      <td>327</td>\n",
       "      <td>1816</td>\n",
       "    </tr>\n",
       "    <tr>\n",
       "      <th>1014</th>\n",
       "      <td>2010</td>\n",
       "      <td>Tripura</td>\n",
       "      <td>Murder - Total Victims</td>\n",
       "      <td>60</td>\n",
       "      <td>73</td>\n",
       "      <td>24</td>\n",
       "      <td>157</td>\n",
       "    </tr>\n",
       "    <tr>\n",
       "      <th>1015</th>\n",
       "      <td>2010</td>\n",
       "      <td>Uttar Pradesh</td>\n",
       "      <td>Murder - Total Victims</td>\n",
       "      <td>2358</td>\n",
       "      <td>1408</td>\n",
       "      <td>344</td>\n",
       "      <td>4110</td>\n",
       "    </tr>\n",
       "    <tr>\n",
       "      <th>1016</th>\n",
       "      <td>2010</td>\n",
       "      <td>Uttarakhand</td>\n",
       "      <td>Murder - Total Victims</td>\n",
       "      <td>91</td>\n",
       "      <td>63</td>\n",
       "      <td>19</td>\n",
       "      <td>173</td>\n",
       "    </tr>\n",
       "    <tr>\n",
       "      <th>1017</th>\n",
       "      <td>2010</td>\n",
       "      <td>West Bengal</td>\n",
       "      <td>Murder - Total Victims</td>\n",
       "      <td>1177</td>\n",
       "      <td>1102</td>\n",
       "      <td>120</td>\n",
       "      <td>2399</td>\n",
       "    </tr>\n",
       "  </tbody>\n",
       "</table>\n",
       "<p>1018 rows × 7 columns</p>\n",
       "</div>"
      ],
      "text/plain": [
       "      Year                      State             Gender Group  \\\n",
       "0     2001  Andaman & Nicobar Islands  Murder - Female Victims   \n",
       "1     2001             Andhra Pradesh  Murder - Female Victims   \n",
       "2     2001          Arunachal Pradesh  Murder - Female Victims   \n",
       "3     2001                      Assam  Murder - Female Victims   \n",
       "4     2001                      Bihar  Murder - Female Victims   \n",
       "...    ...                        ...                      ...   \n",
       "1013  2010                 Tamil Nadu   Murder - Total Victims   \n",
       "1014  2010                    Tripura   Murder - Total Victims   \n",
       "1015  2010              Uttar Pradesh   Murder - Total Victims   \n",
       "1016  2010                Uttarakhand   Murder - Total Victims   \n",
       "1017  2010                West Bengal   Murder - Total Victims   \n",
       "\n",
       "      Number Of Vicitms Between 18-30 Years  \\\n",
       "0                                         4   \n",
       "1                                       269   \n",
       "2                                        10   \n",
       "3                                        45   \n",
       "4                                       191   \n",
       "...                                     ...   \n",
       "1013                                    650   \n",
       "1014                                     60   \n",
       "1015                                   2358   \n",
       "1016                                     91   \n",
       "1017                                   1177   \n",
       "\n",
       "      Number Of Vicitms Between 30-50 Years  \\\n",
       "0                                         2   \n",
       "1                                       175   \n",
       "2                                         4   \n",
       "3                                        37   \n",
       "4                                       123   \n",
       "...                                     ...   \n",
       "1013                                    839   \n",
       "1014                                     73   \n",
       "1015                                   1408   \n",
       "1016                                     63   \n",
       "1017                                   1102   \n",
       "\n",
       "      Number Of Vicitms Between Above 50 Years  Total Number Of Vicitms  \n",
       "0                                           67                       73  \n",
       "1                                           67                      511  \n",
       "2                                            2                       16  \n",
       "3                                           11                       93  \n",
       "4                                           12                      326  \n",
       "...                                        ...                      ...  \n",
       "1013                                       327                     1816  \n",
       "1014                                        24                      157  \n",
       "1015                                       344                     4110  \n",
       "1016                                        19                      173  \n",
       "1017                                       120                     2399  \n",
       "\n",
       "[1018 rows x 7 columns]"
      ]
     },
     "execution_count": 16,
     "metadata": {},
     "output_type": "execute_result"
    }
   ],
   "source": [
    "crime_df"
   ]
  },
  {
   "cell_type": "code",
   "execution_count": 17,
   "metadata": {},
   "outputs": [],
   "source": [
    "# Any data point below lower_limit and any data point above upper_limit will be treated as an outlier.\n",
    "def treat_outlier(value):\n",
    "    if value<lower_limit:\n",
    "        return lower_limit\n",
    "    elif value>upper_limit:\n",
    "        return upper_limit\n",
    "    else:\n",
    "        return value"
   ]
  },
  {
   "cell_type": "code",
   "execution_count": 18,
   "metadata": {},
   "outputs": [],
   "source": [
    "import warnings\n",
    "warnings.filterwarnings('ignore')"
   ]
  },
  {
   "cell_type": "code",
   "execution_count": 19,
   "metadata": {},
   "outputs": [
    {
     "data": {
      "text/plain": [
       "<AxesSubplot:xlabel='Number Of Vicitms Between 18-30 Years'>"
      ]
     },
     "execution_count": 19,
     "metadata": {},
     "output_type": "execute_result"
    },
    {
     "data": {
      "image/png": "[encoded data removed]",
      "text/plain": [
       "<Figure size 432x288 with 1 Axes>"
      ]
     },
     "metadata": {
      "needs_background": "light"
     },
     "output_type": "display_data"
    }
   ],
   "source": [
    "import seaborn as sb\n",
    "sb.boxplot(crime_df[\"Number Of Vicitms Between 18-30 Years\"])"
   ]
  },
  {
   "cell_type": "code",
   "execution_count": 20,
   "metadata": {},
   "outputs": [
    {
     "data": {
      "text/plain": [
       "count    1018.000000\n",
       "mean      314.732809\n",
       "std       481.600202\n",
       "min         0.000000\n",
       "25%        13.000000\n",
       "50%       117.500000\n",
       "75%       415.750000\n",
       "max      3724.000000\n",
       "Name: Number Of Vicitms Between 18-30 Years, dtype: float64"
      ]
     },
     "execution_count": 20,
     "metadata": {},
     "output_type": "execute_result"
    }
   ],
   "source": [
    "crime_df[\"Number Of Vicitms Between 18-30 Years\"].describe()"
   ]
  },
  {
   "cell_type": "code",
   "execution_count": 21,
   "metadata": {},
   "outputs": [
    {
     "data": {
      "text/plain": [
       "13.0"
      ]
     },
     "execution_count": 21,
     "metadata": {},
     "output_type": "execute_result"
    }
   ],
   "source": [
    "q1=crime_df[\"Number Of Vicitms Between 18-30 Years\"].quantile(0.25)\n",
    "q1"
   ]
  },
  {
   "cell_type": "code",
   "execution_count": 22,
   "metadata": {},
   "outputs": [
    {
     "data": {
      "text/plain": [
       "415.75"
      ]
     },
     "execution_count": 22,
     "metadata": {},
     "output_type": "execute_result"
    }
   ],
   "source": [
    "q3=crime_df[\"Number Of Vicitms Between 18-30 Years\"].quantile(0.75)\n",
    "q3"
   ]
  },
  {
   "cell_type": "code",
   "execution_count": 23,
   "metadata": {},
   "outputs": [
    {
     "data": {
      "text/plain": [
       "402.75"
      ]
     },
     "execution_count": 23,
     "metadata": {},
     "output_type": "execute_result"
    }
   ],
   "source": [
    "iqr=q3-q1\n",
    "iqr"
   ]
  },
  {
   "cell_type": "code",
   "execution_count": 24,
   "metadata": {},
   "outputs": [
    {
     "data": {
      "text/plain": [
       "1019.875"
      ]
     },
     "execution_count": 24,
     "metadata": {},
     "output_type": "execute_result"
    }
   ],
   "source": [
    "upper_limit=q3+(iqr*1.5)\n",
    "upper_limit"
   ]
  },
  {
   "cell_type": "code",
   "execution_count": 25,
   "metadata": {},
   "outputs": [
    {
     "data": {
      "text/plain": [
       "-591.125"
      ]
     },
     "execution_count": 25,
     "metadata": {},
     "output_type": "execute_result"
    }
   ],
   "source": [
    "lower_limit=q1-(1.5*iqr)\n",
    "lower_limit"
   ]
  },
  {
   "cell_type": "code",
   "execution_count": 26,
   "metadata": {},
   "outputs": [
    {
     "data": {
      "text/plain": [
       "0"
      ]
     },
     "execution_count": 26,
     "metadata": {},
     "output_type": "execute_result"
    }
   ],
   "source": [
    "lower_limit=crime_df[\"Number Of Vicitms Between 18-30 Years\"].min()\n",
    "lower_limit"
   ]
  },
  {
   "cell_type": "code",
   "execution_count": 27,
   "metadata": {},
   "outputs": [],
   "source": [
    "crime_df[\"Number Of Vicitms Between 18-30 Years\"]=crime_df[\"Number Of Vicitms Between 18-30 Years\"].apply(treat_outlier)"
   ]
  },
  {
   "cell_type": "code",
   "execution_count": 28,
   "metadata": {},
   "outputs": [
    {
     "data": {
      "text/plain": [
       "count    1018.000000\n",
       "mean      266.000737\n",
       "std       312.639942\n",
       "min         0.000000\n",
       "25%        13.000000\n",
       "50%       117.500000\n",
       "75%       415.750000\n",
       "max      1019.875000\n",
       "Name: Number Of Vicitms Between 18-30 Years, dtype: float64"
      ]
     },
     "execution_count": 28,
     "metadata": {},
     "output_type": "execute_result"
    }
   ],
   "source": [
    "crime_df[\"Number Of Vicitms Between 18-30 Years\"].describe()"
   ]
  },
  {
   "cell_type": "code",
   "execution_count": 29,
   "metadata": {},
   "outputs": [
    {
     "data": {
      "text/plain": [
       "<AxesSubplot:xlabel='Number Of Vicitms Between 18-30 Years'>"
      ]
     },
     "execution_count": 29,
     "metadata": {},
     "output_type": "execute_result"
    },
    {
     "data": {
      "image/png": "[encoded data removed]",
      "text/plain": [
       "<Figure size 432x288 with 1 Axes>"
      ]
     },
     "metadata": {
      "needs_background": "light"
     },
     "output_type": "display_data"
    }
   ],
   "source": [
    "sb.boxplot(crime_df[\"Number Of Vicitms Between 18-30 Years\"])"
   ]
  },
  {
   "cell_type": "code",
   "execution_count": 30,
   "metadata": {},
   "outputs": [
    {
     "data": {
      "text/plain": [
       "<AxesSubplot:xlabel='Number Of Vicitms Between 30-50 Years'>"
      ]
     },
     "execution_count": 30,
     "metadata": {},
     "output_type": "execute_result"
    },
    {
     "data": {
      "image/png": "[encoded data removed]",
      "text/plain": [
       "<Figure size 432x288 with 1 Axes>"
      ]
     },
     "metadata": {
      "needs_background": "light"
     },
     "output_type": "display_data"
    }
   ],
   "source": [
    "sb.boxplot(crime_df[\"Number Of Vicitms Between 30-50 Years\"])"
   ]
  },
  {
   "cell_type": "code",
   "execution_count": 31,
   "metadata": {},
   "outputs": [
    {
     "data": {
      "text/plain": [
       "count    1018.000000\n",
       "mean      274.227898\n",
       "std       394.058415\n",
       "min         0.000000\n",
       "25%        13.000000\n",
       "50%       105.000000\n",
       "75%       409.750000\n",
       "max      3143.000000\n",
       "Name: Number Of Vicitms Between 30-50 Years, dtype: float64"
      ]
     },
     "execution_count": 31,
     "metadata": {},
     "output_type": "execute_result"
    }
   ],
   "source": [
    "crime_df[\"Number Of Vicitms Between 30-50 Years\"].describe()"
   ]
  },
  {
   "cell_type": "code",
   "execution_count": 32,
   "metadata": {},
   "outputs": [
    {
     "data": {
      "text/plain": [
       "13.0"
      ]
     },
     "execution_count": 32,
     "metadata": {},
     "output_type": "execute_result"
    }
   ],
   "source": [
    "q1=crime_df[\"Number Of Vicitms Between 30-50 Years\"].quantile(0.25)\n",
    "q1"
   ]
  },
  {
   "cell_type": "code",
   "execution_count": 33,
   "metadata": {},
   "outputs": [
    {
     "data": {
      "text/plain": [
       "409.75"
      ]
     },
     "execution_count": 33,
     "metadata": {},
     "output_type": "execute_result"
    }
   ],
   "source": [
    "q3=crime_df[\"Number Of Vicitms Between 30-50 Years\"].quantile(0.75)\n",
    "q3"
   ]
  },
  {
   "cell_type": "code",
   "execution_count": 34,
   "metadata": {},
   "outputs": [
    {
     "data": {
      "text/plain": [
       "396.75"
      ]
     },
     "execution_count": 34,
     "metadata": {},
     "output_type": "execute_result"
    }
   ],
   "source": [
    "iqr=q3-q1\n",
    "iqr"
   ]
  },
  {
   "cell_type": "code",
   "execution_count": 35,
   "metadata": {},
   "outputs": [
    {
     "data": {
      "text/plain": [
       "1004.875"
      ]
     },
     "execution_count": 35,
     "metadata": {},
     "output_type": "execute_result"
    }
   ],
   "source": [
    "upper_limit=q3+(iqr*1.5)\n",
    "upper_limit"
   ]
  },
  {
   "cell_type": "code",
   "execution_count": 36,
   "metadata": {},
   "outputs": [
    {
     "data": {
      "text/plain": [
       "-582.125"
      ]
     },
     "execution_count": 36,
     "metadata": {},
     "output_type": "execute_result"
    }
   ],
   "source": [
    "lower_limit=q1-(1.5*iqr)\n",
    "lower_limit"
   ]
  },
  {
   "cell_type": "code",
   "execution_count": 37,
   "metadata": {},
   "outputs": [
    {
     "data": {
      "text/plain": [
       "0"
      ]
     },
     "execution_count": 37,
     "metadata": {},
     "output_type": "execute_result"
    }
   ],
   "source": [
    "lower_limit=crime_df[\"Number Of Vicitms Between 30-50 Years\"].min()\n",
    "lower_limit"
   ]
  },
  {
   "cell_type": "code",
   "execution_count": 38,
   "metadata": {},
   "outputs": [],
   "source": [
    "crime_df[\"Number Of Vicitms Between 30-50 Years\"]=crime_df[\"Number Of Vicitms Between 30-50 Years\"].apply(treat_outlier)"
   ]
  },
  {
   "cell_type": "code",
   "execution_count": 39,
   "metadata": {},
   "outputs": [
    {
     "data": {
      "text/plain": [
       "count    1018.000000\n",
       "mean      248.713900\n",
       "std       301.829452\n",
       "min         0.000000\n",
       "25%        13.000000\n",
       "50%       105.000000\n",
       "75%       409.750000\n",
       "max      1004.875000\n",
       "Name: Number Of Vicitms Between 30-50 Years, dtype: float64"
      ]
     },
     "execution_count": 39,
     "metadata": {},
     "output_type": "execute_result"
    }
   ],
   "source": [
    "crime_df[\"Number Of Vicitms Between 30-50 Years\"].describe()"
   ]
  },
  {
   "cell_type": "code",
   "execution_count": 40,
   "metadata": {},
   "outputs": [
    {
     "data": {
      "text/plain": [
       "<AxesSubplot:xlabel='Number Of Vicitms Between 30-50 Years'>"
      ]
     },
     "execution_count": 40,
     "metadata": {},
     "output_type": "execute_result"
    },
    {
     "data": {
      "image/png": "[encoded data removed]",
      "text/plain": [
       "<Figure size 432x288 with 1 Axes>"
      ]
     },
     "metadata": {
      "needs_background": "light"
     },
     "output_type": "display_data"
    }
   ],
   "source": [
    "sb.boxplot(crime_df[\"Number Of Vicitms Between 30-50 Years\"])"
   ]
  },
  {
   "cell_type": "code",
   "execution_count": 41,
   "metadata": {},
   "outputs": [
    {
     "data": {
      "text/plain": [
       "<AxesSubplot:xlabel='Number Of Vicitms Between Above 50 Years'>"
      ]
     },
     "execution_count": 41,
     "metadata": {},
     "output_type": "execute_result"
    },
    {
     "data": {
      "image/png": "[encoded data removed]",
      "text/plain": [
       "<Figure size 432x288 with 1 Axes>"
      ]
     },
     "metadata": {
      "needs_background": "light"
     },
     "output_type": "display_data"
    }
   ],
   "source": [
    "sb.boxplot(crime_df[\"Number Of Vicitms Between Above 50 Years\"])"
   ]
  },
  {
   "cell_type": "code",
   "execution_count": 42,
   "metadata": {},
   "outputs": [
    {
     "data": {
      "text/plain": [
       "count    1018.000000\n",
       "mean       67.528487\n",
       "std        97.840094\n",
       "min         0.000000\n",
       "25%         3.250000\n",
       "50%        29.000000\n",
       "75%        82.000000\n",
       "max       824.000000\n",
       "Name: Number Of Vicitms Between Above 50 Years, dtype: float64"
      ]
     },
     "execution_count": 42,
     "metadata": {},
     "output_type": "execute_result"
    }
   ],
   "source": [
    "crime_df[\"Number Of Vicitms Between Above 50 Years\"].describe()"
   ]
  },
  {
   "cell_type": "code",
   "execution_count": 43,
   "metadata": {},
   "outputs": [
    {
     "data": {
      "text/plain": [
       "3.25"
      ]
     },
     "execution_count": 43,
     "metadata": {},
     "output_type": "execute_result"
    }
   ],
   "source": [
    "q1=crime_df[\"Number Of Vicitms Between Above 50 Years\"].quantile(0.25)\n",
    "q1"
   ]
  },
  {
   "cell_type": "code",
   "execution_count": 44,
   "metadata": {},
   "outputs": [
    {
     "data": {
      "text/plain": [
       "82.0"
      ]
     },
     "execution_count": 44,
     "metadata": {},
     "output_type": "execute_result"
    }
   ],
   "source": [
    "q3=crime_df[\"Number Of Vicitms Between Above 50 Years\"].quantile(0.75)\n",
    "q3"
   ]
  },
  {
   "cell_type": "code",
   "execution_count": 45,
   "metadata": {},
   "outputs": [
    {
     "data": {
      "text/plain": [
       "78.75"
      ]
     },
     "execution_count": 45,
     "metadata": {},
     "output_type": "execute_result"
    }
   ],
   "source": [
    "iqr=q3-q1\n",
    "iqr"
   ]
  },
  {
   "cell_type": "code",
   "execution_count": 46,
   "metadata": {},
   "outputs": [
    {
     "data": {
      "text/plain": [
       "200.125"
      ]
     },
     "execution_count": 46,
     "metadata": {},
     "output_type": "execute_result"
    }
   ],
   "source": [
    "upper_limit=q3+(iqr*1.5)\n",
    "upper_limit"
   ]
  },
  {
   "cell_type": "code",
   "execution_count": 47,
   "metadata": {},
   "outputs": [
    {
     "data": {
      "text/plain": [
       "-114.875"
      ]
     },
     "execution_count": 47,
     "metadata": {},
     "output_type": "execute_result"
    }
   ],
   "source": [
    "lower_limit=q1-(1.5*iqr)\n",
    "lower_limit"
   ]
  },
  {
   "cell_type": "code",
   "execution_count": 48,
   "metadata": {},
   "outputs": [
    {
     "data": {
      "text/plain": [
       "0"
      ]
     },
     "execution_count": 48,
     "metadata": {},
     "output_type": "execute_result"
    }
   ],
   "source": [
    "lower_limit=crime_df[\"Number Of Vicitms Between Above 50 Years\"].min()\n",
    "lower_limit"
   ]
  },
  {
   "cell_type": "code",
   "execution_count": 49,
   "metadata": {},
   "outputs": [],
   "source": [
    "crime_df[\"Number Of Vicitms Between Above 50 Years\"]=crime_df[\"Number Of Vicitms Between Above 50 Years\"].apply(treat_outlier)"
   ]
  },
  {
   "cell_type": "code",
   "execution_count": 50,
   "metadata": {},
   "outputs": [
    {
     "data": {
      "text/plain": [
       "count    1018.000000\n",
       "mean       56.567903\n",
       "std        64.355325\n",
       "min         0.000000\n",
       "25%         3.250000\n",
       "50%        29.000000\n",
       "75%        82.000000\n",
       "max       200.125000\n",
       "Name: Number Of Vicitms Between Above 50 Years, dtype: float64"
      ]
     },
     "execution_count": 50,
     "metadata": {},
     "output_type": "execute_result"
    }
   ],
   "source": [
    "crime_df[\"Number Of Vicitms Between Above 50 Years\"].describe()"
   ]
  },
  {
   "cell_type": "code",
   "execution_count": 51,
   "metadata": {},
   "outputs": [
    {
     "data": {
      "text/plain": [
       "<AxesSubplot:xlabel='Number Of Vicitms Between Above 50 Years'>"
      ]
     },
     "execution_count": 51,
     "metadata": {},
     "output_type": "execute_result"
    },
    {
     "data": {
      "image/png": "[encoded data removed]",
      "text/plain": [
       "<Figure size 432x288 with 1 Axes>"
      ]
     },
     "metadata": {
      "needs_background": "light"
     },
     "output_type": "display_data"
    }
   ],
   "source": [
    "sb.boxplot(crime_df[\"Number Of Vicitms Between Above 50 Years\"])"
   ]
  },
  {
   "cell_type": "code",
   "execution_count": 52,
   "metadata": {},
   "outputs": [
    {
     "data": {
      "text/plain": [
       "<AxesSubplot:xlabel='Total Number Of Vicitms'>"
      ]
     },
     "execution_count": 52,
     "metadata": {},
     "output_type": "execute_result"
    },
    {
     "data": {
      "image/png": "[encoded data removed]",
      "text/plain": [
       "<Figure size 432x288 with 1 Axes>"
      ]
     },
     "metadata": {
      "needs_background": "light"
     },
     "output_type": "display_data"
    }
   ],
   "source": [
    "sb.boxplot(crime_df[\"Total Number Of Vicitms\"])"
   ]
  },
  {
   "cell_type": "code",
   "execution_count": 53,
   "metadata": {},
   "outputs": [
    {
     "data": {
      "text/plain": [
       "count    1018.000000\n",
       "mean      656.495088\n",
       "std       954.991801\n",
       "min         0.000000\n",
       "25%        58.250000\n",
       "50%       264.000000\n",
       "75%       970.750000\n",
       "max      7691.000000\n",
       "Name: Total Number Of Vicitms, dtype: float64"
      ]
     },
     "execution_count": 53,
     "metadata": {},
     "output_type": "execute_result"
    }
   ],
   "source": [
    "crime_df[\"Total Number Of Vicitms\"].describe()"
   ]
  },
  {
   "cell_type": "code",
   "execution_count": 54,
   "metadata": {},
   "outputs": [
    {
     "data": {
      "text/plain": [
       "58.25"
      ]
     },
     "execution_count": 54,
     "metadata": {},
     "output_type": "execute_result"
    }
   ],
   "source": [
    "q1=crime_df[\"Total Number Of Vicitms\"].quantile(0.25)\n",
    "q1"
   ]
  },
  {
   "cell_type": "code",
   "execution_count": 55,
   "metadata": {},
   "outputs": [
    {
     "data": {
      "text/plain": [
       "970.75"
      ]
     },
     "execution_count": 55,
     "metadata": {},
     "output_type": "execute_result"
    }
   ],
   "source": [
    "q3=crime_df[\"Total Number Of Vicitms\"].quantile(0.75)\n",
    "q3"
   ]
  },
  {
   "cell_type": "code",
   "execution_count": 56,
   "metadata": {},
   "outputs": [
    {
     "data": {
      "text/plain": [
       "912.5"
      ]
     },
     "execution_count": 56,
     "metadata": {},
     "output_type": "execute_result"
    }
   ],
   "source": [
    "iqr=q3-q1\n",
    "iqr"
   ]
  },
  {
   "cell_type": "code",
   "execution_count": 57,
   "metadata": {},
   "outputs": [
    {
     "data": {
      "text/plain": [
       "2339.5"
      ]
     },
     "execution_count": 57,
     "metadata": {},
     "output_type": "execute_result"
    }
   ],
   "source": [
    "upper_limit=q3+(iqr*1.5)\n",
    "upper_limit"
   ]
  },
  {
   "cell_type": "code",
   "execution_count": 58,
   "metadata": {},
   "outputs": [
    {
     "data": {
      "text/plain": [
       "-1310.5"
      ]
     },
     "execution_count": 58,
     "metadata": {},
     "output_type": "execute_result"
    }
   ],
   "source": [
    "lower_limit=q1-(1.5*iqr)\n",
    "lower_limit"
   ]
  },
  {
   "cell_type": "code",
   "execution_count": 59,
   "metadata": {},
   "outputs": [
    {
     "data": {
      "text/plain": [
       "0"
      ]
     },
     "execution_count": 59,
     "metadata": {},
     "output_type": "execute_result"
    }
   ],
   "source": [
    "lower_limit=crime_df[\"Total Number Of Vicitms\"].min()\n",
    "lower_limit"
   ]
  },
  {
   "cell_type": "code",
   "execution_count": 60,
   "metadata": {},
   "outputs": [],
   "source": [
    "crime_df[\"Total Number Of Vicitms\"]=crime_df[\"Total Number Of Vicitms\"].apply(treat_outlier)"
   ]
  },
  {
   "cell_type": "code",
   "execution_count": 61,
   "metadata": {},
   "outputs": [
    {
     "data": {
      "text/plain": [
       "count    1018.000000\n",
       "mean      583.001473\n",
       "std       691.588835\n",
       "min         0.000000\n",
       "25%        58.250000\n",
       "50%       264.000000\n",
       "75%       970.750000\n",
       "max      2339.500000\n",
       "Name: Total Number Of Vicitms, dtype: float64"
      ]
     },
     "execution_count": 61,
     "metadata": {},
     "output_type": "execute_result"
    }
   ],
   "source": [
    "crime_df[\"Total Number Of Vicitms\"].describe()"
   ]
  },
  {
   "cell_type": "code",
   "execution_count": 62,
   "metadata": {},
   "outputs": [
    {
     "data": {
      "text/plain": [
       "<AxesSubplot:xlabel='Total Number Of Vicitms'>"
      ]
     },
     "execution_count": 62,
     "metadata": {},
     "output_type": "execute_result"
    },
    {
     "data": {
      "image/png": "[encoded data removed]",
      "text/plain": [
       "<Figure size 432x288 with 1 Axes>"
      ]
     },
     "metadata": {
      "needs_background": "light"
     },
     "output_type": "display_data"
    }
   ],
   "source": [
    "sb.boxplot(crime_df[\"Total Number Of Vicitms\"])"
   ]
  },
  {
   "cell_type": "code",
   "execution_count": 63,
   "metadata": {},
   "outputs": [],
   "source": [
    "crime_df[\"Number Of Vicitms Between 18-30 Years\"]=crime_df[\"Number Of Vicitms Between 18-30 Years\"].astype(int)"
   ]
  },
  {
   "cell_type": "code",
   "execution_count": 64,
   "metadata": {},
   "outputs": [],
   "source": [
    "crime_df[\"Number Of Vicitms Between 30-50 Years\"]=crime_df[\"Number Of Vicitms Between 30-50 Years\"].astype(int)"
   ]
  },
  {
   "cell_type": "code",
   "execution_count": 65,
   "metadata": {},
   "outputs": [],
   "source": [
    "crime_df[\"Number Of Vicitms Between 30-50 Years\"]=crime_df[\"Number Of Vicitms Between 30-50 Years\"].astype(int)"
   ]
  },
  {
   "cell_type": "code",
   "execution_count": 66,
   "metadata": {},
   "outputs": [],
   "source": [
    "crime_df[\"Number Of Vicitms Between Above 50 Years\"]=crime_df[\"Number Of Vicitms Between Above 50 Years\"].astype(int)"
   ]
  },
  {
   "cell_type": "code",
   "execution_count": 67,
   "metadata": {},
   "outputs": [],
   "source": [
    "crime_df[\"Total Number Of Vicitms\"]=crime_df[\"Total Number Of Vicitms\"].astype(int)"
   ]
  },
  {
   "cell_type": "code",
   "execution_count": 68,
   "metadata": {},
   "outputs": [
    {
     "data": {
      "text/html": [
       "<div>\n",
       "<style scoped>\n",
       "    .dataframe tbody tr th:only-of-type {\n",
       "        vertical-align: middle;\n",
       "    }\n",
       "\n",
       "    .dataframe tbody tr th {\n",
       "        vertical-align: top;\n",
       "    }\n",
       "\n",
       "    .dataframe thead th {\n",
       "        text-align: right;\n",
       "    }\n",
       "</style>\n",
       "<table border=\"1\" class=\"dataframe\">\n",
       "  <thead>\n",
       "    <tr style=\"text-align: right;\">\n",
       "      <th></th>\n",
       "      <th>Year</th>\n",
       "      <th>State</th>\n",
       "      <th>Gender Group</th>\n",
       "      <th>Number Of Vicitms Between 18-30 Years</th>\n",
       "      <th>Number Of Vicitms Between 30-50 Years</th>\n",
       "      <th>Number Of Vicitms Between Above 50 Years</th>\n",
       "      <th>Total Number Of Vicitms</th>\n",
       "    </tr>\n",
       "  </thead>\n",
       "  <tbody>\n",
       "    <tr>\n",
       "      <th>0</th>\n",
       "      <td>2001</td>\n",
       "      <td>Andaman &amp; Nicobar Islands</td>\n",
       "      <td>Murder - Female Victims</td>\n",
       "      <td>4</td>\n",
       "      <td>2</td>\n",
       "      <td>67</td>\n",
       "      <td>73</td>\n",
       "    </tr>\n",
       "    <tr>\n",
       "      <th>1</th>\n",
       "      <td>2001</td>\n",
       "      <td>Andhra Pradesh</td>\n",
       "      <td>Murder - Female Victims</td>\n",
       "      <td>269</td>\n",
       "      <td>175</td>\n",
       "      <td>67</td>\n",
       "      <td>511</td>\n",
       "    </tr>\n",
       "    <tr>\n",
       "      <th>2</th>\n",
       "      <td>2001</td>\n",
       "      <td>Arunachal Pradesh</td>\n",
       "      <td>Murder - Female Victims</td>\n",
       "      <td>10</td>\n",
       "      <td>4</td>\n",
       "      <td>2</td>\n",
       "      <td>16</td>\n",
       "    </tr>\n",
       "    <tr>\n",
       "      <th>3</th>\n",
       "      <td>2001</td>\n",
       "      <td>Assam</td>\n",
       "      <td>Murder - Female Victims</td>\n",
       "      <td>45</td>\n",
       "      <td>37</td>\n",
       "      <td>11</td>\n",
       "      <td>93</td>\n",
       "    </tr>\n",
       "    <tr>\n",
       "      <th>4</th>\n",
       "      <td>2001</td>\n",
       "      <td>Bihar</td>\n",
       "      <td>Murder - Female Victims</td>\n",
       "      <td>191</td>\n",
       "      <td>123</td>\n",
       "      <td>12</td>\n",
       "      <td>326</td>\n",
       "    </tr>\n",
       "    <tr>\n",
       "      <th>...</th>\n",
       "      <td>...</td>\n",
       "      <td>...</td>\n",
       "      <td>...</td>\n",
       "      <td>...</td>\n",
       "      <td>...</td>\n",
       "      <td>...</td>\n",
       "      <td>...</td>\n",
       "    </tr>\n",
       "    <tr>\n",
       "      <th>1013</th>\n",
       "      <td>2010</td>\n",
       "      <td>Tamil Nadu</td>\n",
       "      <td>Murder - Total Victims</td>\n",
       "      <td>650</td>\n",
       "      <td>839</td>\n",
       "      <td>200</td>\n",
       "      <td>1816</td>\n",
       "    </tr>\n",
       "    <tr>\n",
       "      <th>1014</th>\n",
       "      <td>2010</td>\n",
       "      <td>Tripura</td>\n",
       "      <td>Murder - Total Victims</td>\n",
       "      <td>60</td>\n",
       "      <td>73</td>\n",
       "      <td>24</td>\n",
       "      <td>157</td>\n",
       "    </tr>\n",
       "    <tr>\n",
       "      <th>1015</th>\n",
       "      <td>2010</td>\n",
       "      <td>Uttar Pradesh</td>\n",
       "      <td>Murder - Total Victims</td>\n",
       "      <td>1019</td>\n",
       "      <td>1004</td>\n",
       "      <td>200</td>\n",
       "      <td>2339</td>\n",
       "    </tr>\n",
       "    <tr>\n",
       "      <th>1016</th>\n",
       "      <td>2010</td>\n",
       "      <td>Uttarakhand</td>\n",
       "      <td>Murder - Total Victims</td>\n",
       "      <td>91</td>\n",
       "      <td>63</td>\n",
       "      <td>19</td>\n",
       "      <td>173</td>\n",
       "    </tr>\n",
       "    <tr>\n",
       "      <th>1017</th>\n",
       "      <td>2010</td>\n",
       "      <td>West Bengal</td>\n",
       "      <td>Murder - Total Victims</td>\n",
       "      <td>1019</td>\n",
       "      <td>1004</td>\n",
       "      <td>120</td>\n",
       "      <td>2339</td>\n",
       "    </tr>\n",
       "  </tbody>\n",
       "</table>\n",
       "<p>1018 rows × 7 columns</p>\n",
       "</div>"
      ],
      "text/plain": [
       "      Year                      State             Gender Group  \\\n",
       "0     2001  Andaman & Nicobar Islands  Murder - Female Victims   \n",
       "1     2001             Andhra Pradesh  Murder - Female Victims   \n",
       "2     2001          Arunachal Pradesh  Murder - Female Victims   \n",
       "3     2001                      Assam  Murder - Female Victims   \n",
       "4     2001                      Bihar  Murder - Female Victims   \n",
       "...    ...                        ...                      ...   \n",
       "1013  2010                 Tamil Nadu   Murder - Total Victims   \n",
       "1014  2010                    Tripura   Murder - Total Victims   \n",
       "1015  2010              Uttar Pradesh   Murder - Total Victims   \n",
       "1016  2010                Uttarakhand   Murder - Total Victims   \n",
       "1017  2010                West Bengal   Murder - Total Victims   \n",
       "\n",
       "      Number Of Vicitms Between 18-30 Years  \\\n",
       "0                                         4   \n",
       "1                                       269   \n",
       "2                                        10   \n",
       "3                                        45   \n",
       "4                                       191   \n",
       "...                                     ...   \n",
       "1013                                    650   \n",
       "1014                                     60   \n",
       "1015                                   1019   \n",
       "1016                                     91   \n",
       "1017                                   1019   \n",
       "\n",
       "      Number Of Vicitms Between 30-50 Years  \\\n",
       "0                                         2   \n",
       "1                                       175   \n",
       "2                                         4   \n",
       "3                                        37   \n",
       "4                                       123   \n",
       "...                                     ...   \n",
       "1013                                    839   \n",
       "1014                                     73   \n",
       "1015                                   1004   \n",
       "1016                                     63   \n",
       "1017                                   1004   \n",
       "\n",
       "      Number Of Vicitms Between Above 50 Years  Total Number Of Vicitms  \n",
       "0                                           67                       73  \n",
       "1                                           67                      511  \n",
       "2                                            2                       16  \n",
       "3                                           11                       93  \n",
       "4                                           12                      326  \n",
       "...                                        ...                      ...  \n",
       "1013                                       200                     1816  \n",
       "1014                                        24                      157  \n",
       "1015                                       200                     2339  \n",
       "1016                                        19                      173  \n",
       "1017                                       120                     2339  \n",
       "\n",
       "[1018 rows x 7 columns]"
      ]
     },
     "execution_count": 68,
     "metadata": {},
     "output_type": "execute_result"
    }
   ],
   "source": [
    "crime_df"
   ]
  },
  {
   "cell_type": "code",
   "execution_count": 69,
   "metadata": {},
   "outputs": [
    {
     "name": "stdout",
     "output_type": "stream",
     "text": [
      "<class 'pandas.core.frame.DataFrame'>\n",
      "RangeIndex: 1018 entries, 0 to 1017\n",
      "Data columns (total 7 columns):\n",
      " #   Column                                    Non-Null Count  Dtype \n",
      "---  ------                                    --------------  ----- \n",
      " 0   Year                                      1018 non-null   int64 \n",
      " 1   State                                     1018 non-null   object\n",
      " 2   Gender Group                              1018 non-null   object\n",
      " 3   Number Of Vicitms Between 18-30 Years     1018 non-null   int32 \n",
      " 4   Number Of Vicitms Between 30-50 Years     1018 non-null   int32 \n",
      " 5   Number Of Vicitms Between Above 50 Years  1018 non-null   int32 \n",
      " 6   Total Number Of Vicitms                   1018 non-null   int32 \n",
      "dtypes: int32(4), int64(1), object(2)\n",
      "memory usage: 39.9+ KB\n"
     ]
    }
   ],
   "source": [
    "crime_df.info()"
   ]
  },
  {
   "cell_type": "code",
   "execution_count": 70,
   "metadata": {},
   "outputs": [
    {
     "data": {
      "text/html": [
       "<div>\n",
       "<style scoped>\n",
       "    .dataframe tbody tr th:only-of-type {\n",
       "        vertical-align: middle;\n",
       "    }\n",
       "\n",
       "    .dataframe tbody tr th {\n",
       "        vertical-align: top;\n",
       "    }\n",
       "\n",
       "    .dataframe thead th {\n",
       "        text-align: right;\n",
       "    }\n",
       "</style>\n",
       "<table border=\"1\" class=\"dataframe\">\n",
       "  <thead>\n",
       "    <tr style=\"text-align: right;\">\n",
       "      <th></th>\n",
       "      <th>Year</th>\n",
       "      <th>Number Of Vicitms Between 18-30 Years</th>\n",
       "      <th>Number Of Vicitms Between 30-50 Years</th>\n",
       "      <th>Number Of Vicitms Between Above 50 Years</th>\n",
       "      <th>Total Number Of Vicitms</th>\n",
       "    </tr>\n",
       "  </thead>\n",
       "  <tbody>\n",
       "    <tr>\n",
       "      <th>count</th>\n",
       "      <td>1018.000000</td>\n",
       "      <td>1018.000000</td>\n",
       "      <td>1018.000000</td>\n",
       "      <td>1018.000000</td>\n",
       "      <td>1018.000000</td>\n",
       "    </tr>\n",
       "    <tr>\n",
       "      <th>mean</th>\n",
       "      <td>2005.512770</td>\n",
       "      <td>265.944008</td>\n",
       "      <td>248.664047</td>\n",
       "      <td>56.555992</td>\n",
       "      <td>582.971513</td>\n",
       "    </tr>\n",
       "    <tr>\n",
       "      <th>std</th>\n",
       "      <td>2.866127</td>\n",
       "      <td>312.503061</td>\n",
       "      <td>301.704478</td>\n",
       "      <td>64.328735</td>\n",
       "      <td>691.512672</td>\n",
       "    </tr>\n",
       "    <tr>\n",
       "      <th>min</th>\n",
       "      <td>2001.000000</td>\n",
       "      <td>0.000000</td>\n",
       "      <td>0.000000</td>\n",
       "      <td>0.000000</td>\n",
       "      <td>0.000000</td>\n",
       "    </tr>\n",
       "    <tr>\n",
       "      <th>25%</th>\n",
       "      <td>2003.000000</td>\n",
       "      <td>13.000000</td>\n",
       "      <td>13.000000</td>\n",
       "      <td>3.250000</td>\n",
       "      <td>58.250000</td>\n",
       "    </tr>\n",
       "    <tr>\n",
       "      <th>50%</th>\n",
       "      <td>2006.000000</td>\n",
       "      <td>117.500000</td>\n",
       "      <td>105.000000</td>\n",
       "      <td>29.000000</td>\n",
       "      <td>264.000000</td>\n",
       "    </tr>\n",
       "    <tr>\n",
       "      <th>75%</th>\n",
       "      <td>2008.000000</td>\n",
       "      <td>415.750000</td>\n",
       "      <td>409.750000</td>\n",
       "      <td>82.000000</td>\n",
       "      <td>970.750000</td>\n",
       "    </tr>\n",
       "    <tr>\n",
       "      <th>max</th>\n",
       "      <td>2010.000000</td>\n",
       "      <td>1019.000000</td>\n",
       "      <td>1004.000000</td>\n",
       "      <td>200.000000</td>\n",
       "      <td>2339.000000</td>\n",
       "    </tr>\n",
       "  </tbody>\n",
       "</table>\n",
       "</div>"
      ],
      "text/plain": [
       "              Year  Number Of Vicitms Between 18-30 Years  \\\n",
       "count  1018.000000                            1018.000000   \n",
       "mean   2005.512770                             265.944008   \n",
       "std       2.866127                             312.503061   \n",
       "min    2001.000000                               0.000000   \n",
       "25%    2003.000000                              13.000000   \n",
       "50%    2006.000000                             117.500000   \n",
       "75%    2008.000000                             415.750000   \n",
       "max    2010.000000                            1019.000000   \n",
       "\n",
       "       Number Of Vicitms Between 30-50 Years  \\\n",
       "count                            1018.000000   \n",
       "mean                              248.664047   \n",
       "std                               301.704478   \n",
       "min                                 0.000000   \n",
       "25%                                13.000000   \n",
       "50%                               105.000000   \n",
       "75%                               409.750000   \n",
       "max                              1004.000000   \n",
       "\n",
       "       Number Of Vicitms Between Above 50 Years  Total Number Of Vicitms  \n",
       "count                               1018.000000              1018.000000  \n",
       "mean                                  56.555992               582.971513  \n",
       "std                                   64.328735               691.512672  \n",
       "min                                    0.000000                 0.000000  \n",
       "25%                                    3.250000                58.250000  \n",
       "50%                                   29.000000               264.000000  \n",
       "75%                                   82.000000               970.750000  \n",
       "max                                  200.000000              2339.000000  "
      ]
     },
     "execution_count": 70,
     "metadata": {},
     "output_type": "execute_result"
    }
   ],
   "source": [
    "crime_df.describe()"
   ]
  },
  {
   "cell_type": "code",
   "execution_count": 71,
   "metadata": {},
   "outputs": [
    {
     "data": {
      "text/plain": [
       "Text(0.5, 1.0, 'Crime rate graph against female for the state of Assam')"
      ]
     },
     "execution_count": 71,
     "metadata": {},
     "output_type": "execute_result"
    },
    {
     "data": {
      "image/png": "[encoded data removed]",
      "text/plain": [
       "<Figure size 432x288 with 1 Axes>"
      ]
     },
     "metadata": {
      "needs_background": "light"
     },
     "output_type": "display_data"
    }
   ],
   "source": [
    "# Graph against female victims for the state of Assam\n",
    "plt.bar(crime_df[(crime_df[\"State\"]==\"Assam\") & (crime_df[\"Gender Group\"]==\"Murder - Female Victims\")][\"Year\"], crime_df[(crime_df[\"State\"]==\"Assam\") & (crime_df[\"Gender Group\"]==\"Murder - Female Victims\")][\"Total Number Of Vicitms\"])\n",
    "plt.xlabel(\"Year\")\n",
    "plt.ylabel(\"Number of female victims\")\n",
    "plt.title(\"Crime rate graph against female for the state of Assam\")"
   ]
  },
  {
   "cell_type": "code",
   "execution_count": 72,
   "metadata": {},
   "outputs": [
    {
     "data": {
      "text/plain": [
       "Text(0.5, 1.0, 'Crime rate graph against male for the state of Assam')"
      ]
     },
     "execution_count": 72,
     "metadata": {},
     "output_type": "execute_result"
    },
    {
     "data": {
      "image/png": "[encoded data removed]",
      "text/plain": [
       "<Figure size 432x288 with 1 Axes>"
      ]
     },
     "metadata": {
      "needs_background": "light"
     },
     "output_type": "display_data"
    }
   ],
   "source": [
    "# Graph against male victims for the state of Assam\n",
    "plt.bar(crime_df[(crime_df[\"State\"]==\"Assam\") & (crime_df[\"Gender Group\"]==\"Murder - Male Victims\")][\"Year\"], crime_df[(crime_df[\"State\"]==\"Assam\") & (crime_df[\"Gender Group\"]==\"Murder - Male Victims\")][\"Total Number Of Vicitms\"])\n",
    "plt.xlabel(\"Year\")\n",
    "plt.ylabel(\"Number of male victims\")\n",
    "plt.title(\"Crime rate graph against male for the state of Assam\")"
   ]
  },
  {
   "cell_type": "code",
   "execution_count": 73,
   "metadata": {},
   "outputs": [
    {
     "data": {
      "text/html": [
       "<div>\n",
       "<style scoped>\n",
       "    .dataframe tbody tr th:only-of-type {\n",
       "        vertical-align: middle;\n",
       "    }\n",
       "\n",
       "    .dataframe tbody tr th {\n",
       "        vertical-align: top;\n",
       "    }\n",
       "\n",
       "    .dataframe thead th {\n",
       "        text-align: right;\n",
       "    }\n",
       "</style>\n",
       "<table border=\"1\" class=\"dataframe\">\n",
       "  <thead>\n",
       "    <tr style=\"text-align: right;\">\n",
       "      <th></th>\n",
       "      <th>Year</th>\n",
       "      <th>State</th>\n",
       "      <th>Gender Group</th>\n",
       "      <th>Number Of Vicitms Between 18-30 Years</th>\n",
       "      <th>Number Of Vicitms Between 30-50 Years</th>\n",
       "      <th>Number Of Vicitms Between Above 50 Years</th>\n",
       "    </tr>\n",
       "  </thead>\n",
       "  <tbody>\n",
       "    <tr>\n",
       "      <th>0</th>\n",
       "      <td>2001</td>\n",
       "      <td>Andaman &amp; Nicobar Islands</td>\n",
       "      <td>Murder - Female Victims</td>\n",
       "      <td>4</td>\n",
       "      <td>2</td>\n",
       "      <td>67</td>\n",
       "    </tr>\n",
       "    <tr>\n",
       "      <th>1</th>\n",
       "      <td>2001</td>\n",
       "      <td>Andhra Pradesh</td>\n",
       "      <td>Murder - Female Victims</td>\n",
       "      <td>269</td>\n",
       "      <td>175</td>\n",
       "      <td>67</td>\n",
       "    </tr>\n",
       "    <tr>\n",
       "      <th>2</th>\n",
       "      <td>2001</td>\n",
       "      <td>Arunachal Pradesh</td>\n",
       "      <td>Murder - Female Victims</td>\n",
       "      <td>10</td>\n",
       "      <td>4</td>\n",
       "      <td>2</td>\n",
       "    </tr>\n",
       "    <tr>\n",
       "      <th>3</th>\n",
       "      <td>2001</td>\n",
       "      <td>Assam</td>\n",
       "      <td>Murder - Female Victims</td>\n",
       "      <td>45</td>\n",
       "      <td>37</td>\n",
       "      <td>11</td>\n",
       "    </tr>\n",
       "    <tr>\n",
       "      <th>4</th>\n",
       "      <td>2001</td>\n",
       "      <td>Bihar</td>\n",
       "      <td>Murder - Female Victims</td>\n",
       "      <td>191</td>\n",
       "      <td>123</td>\n",
       "      <td>12</td>\n",
       "    </tr>\n",
       "    <tr>\n",
       "      <th>...</th>\n",
       "      <td>...</td>\n",
       "      <td>...</td>\n",
       "      <td>...</td>\n",
       "      <td>...</td>\n",
       "      <td>...</td>\n",
       "      <td>...</td>\n",
       "    </tr>\n",
       "    <tr>\n",
       "      <th>1013</th>\n",
       "      <td>2010</td>\n",
       "      <td>Tamil Nadu</td>\n",
       "      <td>Murder - Total Victims</td>\n",
       "      <td>650</td>\n",
       "      <td>839</td>\n",
       "      <td>200</td>\n",
       "    </tr>\n",
       "    <tr>\n",
       "      <th>1014</th>\n",
       "      <td>2010</td>\n",
       "      <td>Tripura</td>\n",
       "      <td>Murder - Total Victims</td>\n",
       "      <td>60</td>\n",
       "      <td>73</td>\n",
       "      <td>24</td>\n",
       "    </tr>\n",
       "    <tr>\n",
       "      <th>1015</th>\n",
       "      <td>2010</td>\n",
       "      <td>Uttar Pradesh</td>\n",
       "      <td>Murder - Total Victims</td>\n",
       "      <td>1019</td>\n",
       "      <td>1004</td>\n",
       "      <td>200</td>\n",
       "    </tr>\n",
       "    <tr>\n",
       "      <th>1016</th>\n",
       "      <td>2010</td>\n",
       "      <td>Uttarakhand</td>\n",
       "      <td>Murder - Total Victims</td>\n",
       "      <td>91</td>\n",
       "      <td>63</td>\n",
       "      <td>19</td>\n",
       "    </tr>\n",
       "    <tr>\n",
       "      <th>1017</th>\n",
       "      <td>2010</td>\n",
       "      <td>West Bengal</td>\n",
       "      <td>Murder - Total Victims</td>\n",
       "      <td>1019</td>\n",
       "      <td>1004</td>\n",
       "      <td>120</td>\n",
       "    </tr>\n",
       "  </tbody>\n",
       "</table>\n",
       "<p>1018 rows × 6 columns</p>\n",
       "</div>"
      ],
      "text/plain": [
       "      Year                      State             Gender Group  \\\n",
       "0     2001  Andaman & Nicobar Islands  Murder - Female Victims   \n",
       "1     2001             Andhra Pradesh  Murder - Female Victims   \n",
       "2     2001          Arunachal Pradesh  Murder - Female Victims   \n",
       "3     2001                      Assam  Murder - Female Victims   \n",
       "4     2001                      Bihar  Murder - Female Victims   \n",
       "...    ...                        ...                      ...   \n",
       "1013  2010                 Tamil Nadu   Murder - Total Victims   \n",
       "1014  2010                    Tripura   Murder - Total Victims   \n",
       "1015  2010              Uttar Pradesh   Murder - Total Victims   \n",
       "1016  2010                Uttarakhand   Murder - Total Victims   \n",
       "1017  2010                West Bengal   Murder - Total Victims   \n",
       "\n",
       "      Number Of Vicitms Between 18-30 Years  \\\n",
       "0                                         4   \n",
       "1                                       269   \n",
       "2                                        10   \n",
       "3                                        45   \n",
       "4                                       191   \n",
       "...                                     ...   \n",
       "1013                                    650   \n",
       "1014                                     60   \n",
       "1015                                   1019   \n",
       "1016                                     91   \n",
       "1017                                   1019   \n",
       "\n",
       "      Number Of Vicitms Between 30-50 Years  \\\n",
       "0                                         2   \n",
       "1                                       175   \n",
       "2                                         4   \n",
       "3                                        37   \n",
       "4                                       123   \n",
       "...                                     ...   \n",
       "1013                                    839   \n",
       "1014                                     73   \n",
       "1015                                   1004   \n",
       "1016                                     63   \n",
       "1017                                   1004   \n",
       "\n",
       "      Number Of Vicitms Between Above 50 Years  \n",
       "0                                           67  \n",
       "1                                           67  \n",
       "2                                            2  \n",
       "3                                           11  \n",
       "4                                           12  \n",
       "...                                        ...  \n",
       "1013                                       200  \n",
       "1014                                        24  \n",
       "1015                                       200  \n",
       "1016                                        19  \n",
       "1017                                       120  \n",
       "\n",
       "[1018 rows x 6 columns]"
      ]
     },
     "execution_count": 73,
     "metadata": {},
     "output_type": "execute_result"
    }
   ],
   "source": [
    "crime_df=crime_df.drop(columns=[\"Total Number Of Vicitms\"])\n",
    "crime_df"
   ]
  },
  {
   "cell_type": "code",
   "execution_count": 74,
   "metadata": {},
   "outputs": [],
   "source": [
    "from sklearn.preprocessing import LabelEncoder\n",
    "le=LabelEncoder()"
   ]
  },
  {
   "cell_type": "code",
   "execution_count": 75,
   "metadata": {},
   "outputs": [],
   "source": [
    "state_code={\n",
    "    \"Andaman & Nicobar Islands\":0,\n",
    "    \"Andhra Pradesh\":1,\n",
    "    \"Arunachal Pradesh\":2,\n",
    "    \"Assam\":3,\n",
    "    \"Bihar\":4,\n",
    "    \"Chandigarh\":5,\n",
    "    \"Chhattisgarh\":6,\n",
    "    \"Delhi\":7,\n",
    "    \"Goa\":8,\n",
    "    \"Gujarat\":9,\n",
    "    \"Haryana\":10,\n",
    "    \"Himachal Pradesh\":11,\n",
    "    \"Jammu & Kashmir\":12,\n",
    "    \"Jharkhand\":13,\n",
    "    \"Karnataka\":14,\n",
    "    \"Kerala\":15,\n",
    "    \"Lakshadweep\":16,\n",
    "    \"Madhya Pradesh\":17,\n",
    "    \"Maharashtra\":18,\n",
    "    \"Manipur\":19,\n",
    "    \"Meghalaya\":20,\n",
    "    \"Mizoram\":21,\n",
    "    \"Nagaland\":22,\n",
    "    \"Odisha\":23,\n",
    "    \"Puducherry\":24,\n",
    "    \"Punjab\":25,\n",
    "    \"Rajasthan\":26,\n",
    "    \"Sikkim\":27,\n",
    "    \"Tamil Nadu\":28,\n",
    "    \"Tripura\":29,\n",
    "    \"Uttar Pradesh\":30,\n",
    "    \"Uttarakhand\":31,\n",
    "    \"West Bengal\":32,\n",
    "    \"Dadra & Nagar Haveli\":33,\n",
    "    \"Daman & Diu\":34\n",
    "}\n",
    "\n",
    "crime_df[\"State\"].replace(state_code, inplace=True)"
   ]
  },
  {
   "cell_type": "code",
   "execution_count": 76,
   "metadata": {},
   "outputs": [],
   "source": [
    "gender_group_code={\n",
    "    \"Murder - Female Victims\":0,\n",
    "    \"Murder - Male Victims\":1,\n",
    "    \"Murder - Total Victims\":2\n",
    "}\n",
    "\n",
    "crime_df[\"Gender Group\"].replace(gender_group_code, inplace=True)"
   ]
  },
  {
   "cell_type": "code",
   "execution_count": 77,
   "metadata": {},
   "outputs": [
    {
     "data": {
      "text/plain": [
       "array([ 0,  1,  2,  3,  4,  5,  6,  7,  8,  9, 10, 11, 12, 13, 14, 15, 16,\n",
       "       17, 18, 19, 20, 21, 22, 23, 24, 25, 26, 27, 28, 29, 30, 31, 32, 33,\n",
       "       34], dtype=int64)"
      ]
     },
     "execution_count": 77,
     "metadata": {},
     "output_type": "execute_result"
    }
   ],
   "source": [
    "crime_df[\"State\"].unique()"
   ]
  },
  {
   "cell_type": "code",
   "execution_count": 78,
   "metadata": {},
   "outputs": [
    {
     "name": "stdout",
     "output_type": "stream",
     "text": [
      "<class 'pandas.core.frame.DataFrame'>\n",
      "RangeIndex: 1018 entries, 0 to 1017\n",
      "Data columns (total 6 columns):\n",
      " #   Column                                    Non-Null Count  Dtype\n",
      "---  ------                                    --------------  -----\n",
      " 0   Year                                      1018 non-null   int64\n",
      " 1   State                                     1018 non-null   int64\n",
      " 2   Gender Group                              1018 non-null   int64\n",
      " 3   Number Of Vicitms Between 18-30 Years     1018 non-null   int32\n",
      " 4   Number Of Vicitms Between 30-50 Years     1018 non-null   int32\n",
      " 5   Number Of Vicitms Between Above 50 Years  1018 non-null   int32\n",
      "dtypes: int32(3), int64(3)\n",
      "memory usage: 35.9 KB\n"
     ]
    }
   ],
   "source": [
    "crime_df.info()"
   ]
  },
  {
   "cell_type": "code",
   "execution_count": 79,
   "metadata": {},
   "outputs": [],
   "source": [
    "#crime_df[\"Gender Group\"]=le.fit_transform(crime_df[\"Gender Group\"])"
   ]
  },
  {
   "cell_type": "code",
   "execution_count": 80,
   "metadata": {},
   "outputs": [],
   "source": [
    "#crime_df[\"State\"]=le.fit_transform(crime_df[\"State\"])"
   ]
  },
  {
   "cell_type": "code",
   "execution_count": 81,
   "metadata": {},
   "outputs": [
    {
     "data": {
      "text/html": [
       "<div>\n",
       "<style scoped>\n",
       "    .dataframe tbody tr th:only-of-type {\n",
       "        vertical-align: middle;\n",
       "    }\n",
       "\n",
       "    .dataframe tbody tr th {\n",
       "        vertical-align: top;\n",
       "    }\n",
       "\n",
       "    .dataframe thead th {\n",
       "        text-align: right;\n",
       "    }\n",
       "</style>\n",
       "<table border=\"1\" class=\"dataframe\">\n",
       "  <thead>\n",
       "    <tr style=\"text-align: right;\">\n",
       "      <th></th>\n",
       "      <th>Year</th>\n",
       "      <th>State</th>\n",
       "      <th>Gender Group</th>\n",
       "      <th>Number Of Vicitms Between 18-30 Years</th>\n",
       "      <th>Number Of Vicitms Between 30-50 Years</th>\n",
       "      <th>Number Of Vicitms Between Above 50 Years</th>\n",
       "    </tr>\n",
       "  </thead>\n",
       "  <tbody>\n",
       "    <tr>\n",
       "      <th>0</th>\n",
       "      <td>2001</td>\n",
       "      <td>0</td>\n",
       "      <td>0</td>\n",
       "      <td>4</td>\n",
       "      <td>2</td>\n",
       "      <td>67</td>\n",
       "    </tr>\n",
       "    <tr>\n",
       "      <th>1</th>\n",
       "      <td>2001</td>\n",
       "      <td>1</td>\n",
       "      <td>0</td>\n",
       "      <td>269</td>\n",
       "      <td>175</td>\n",
       "      <td>67</td>\n",
       "    </tr>\n",
       "    <tr>\n",
       "      <th>2</th>\n",
       "      <td>2001</td>\n",
       "      <td>2</td>\n",
       "      <td>0</td>\n",
       "      <td>10</td>\n",
       "      <td>4</td>\n",
       "      <td>2</td>\n",
       "    </tr>\n",
       "    <tr>\n",
       "      <th>3</th>\n",
       "      <td>2001</td>\n",
       "      <td>3</td>\n",
       "      <td>0</td>\n",
       "      <td>45</td>\n",
       "      <td>37</td>\n",
       "      <td>11</td>\n",
       "    </tr>\n",
       "    <tr>\n",
       "      <th>4</th>\n",
       "      <td>2001</td>\n",
       "      <td>4</td>\n",
       "      <td>0</td>\n",
       "      <td>191</td>\n",
       "      <td>123</td>\n",
       "      <td>12</td>\n",
       "    </tr>\n",
       "    <tr>\n",
       "      <th>...</th>\n",
       "      <td>...</td>\n",
       "      <td>...</td>\n",
       "      <td>...</td>\n",
       "      <td>...</td>\n",
       "      <td>...</td>\n",
       "      <td>...</td>\n",
       "    </tr>\n",
       "    <tr>\n",
       "      <th>1013</th>\n",
       "      <td>2010</td>\n",
       "      <td>28</td>\n",
       "      <td>2</td>\n",
       "      <td>650</td>\n",
       "      <td>839</td>\n",
       "      <td>200</td>\n",
       "    </tr>\n",
       "    <tr>\n",
       "      <th>1014</th>\n",
       "      <td>2010</td>\n",
       "      <td>29</td>\n",
       "      <td>2</td>\n",
       "      <td>60</td>\n",
       "      <td>73</td>\n",
       "      <td>24</td>\n",
       "    </tr>\n",
       "    <tr>\n",
       "      <th>1015</th>\n",
       "      <td>2010</td>\n",
       "      <td>30</td>\n",
       "      <td>2</td>\n",
       "      <td>1019</td>\n",
       "      <td>1004</td>\n",
       "      <td>200</td>\n",
       "    </tr>\n",
       "    <tr>\n",
       "      <th>1016</th>\n",
       "      <td>2010</td>\n",
       "      <td>31</td>\n",
       "      <td>2</td>\n",
       "      <td>91</td>\n",
       "      <td>63</td>\n",
       "      <td>19</td>\n",
       "    </tr>\n",
       "    <tr>\n",
       "      <th>1017</th>\n",
       "      <td>2010</td>\n",
       "      <td>32</td>\n",
       "      <td>2</td>\n",
       "      <td>1019</td>\n",
       "      <td>1004</td>\n",
       "      <td>120</td>\n",
       "    </tr>\n",
       "  </tbody>\n",
       "</table>\n",
       "<p>1018 rows × 6 columns</p>\n",
       "</div>"
      ],
      "text/plain": [
       "      Year  State  Gender Group  Number Of Vicitms Between 18-30 Years  \\\n",
       "0     2001      0             0                                      4   \n",
       "1     2001      1             0                                    269   \n",
       "2     2001      2             0                                     10   \n",
       "3     2001      3             0                                     45   \n",
       "4     2001      4             0                                    191   \n",
       "...    ...    ...           ...                                    ...   \n",
       "1013  2010     28             2                                    650   \n",
       "1014  2010     29             2                                     60   \n",
       "1015  2010     30             2                                   1019   \n",
       "1016  2010     31             2                                     91   \n",
       "1017  2010     32             2                                   1019   \n",
       "\n",
       "      Number Of Vicitms Between 30-50 Years  \\\n",
       "0                                         2   \n",
       "1                                       175   \n",
       "2                                         4   \n",
       "3                                        37   \n",
       "4                                       123   \n",
       "...                                     ...   \n",
       "1013                                    839   \n",
       "1014                                     73   \n",
       "1015                                   1004   \n",
       "1016                                     63   \n",
       "1017                                   1004   \n",
       "\n",
       "      Number Of Vicitms Between Above 50 Years  \n",
       "0                                           67  \n",
       "1                                           67  \n",
       "2                                            2  \n",
       "3                                           11  \n",
       "4                                           12  \n",
       "...                                        ...  \n",
       "1013                                       200  \n",
       "1014                                        24  \n",
       "1015                                       200  \n",
       "1016                                        19  \n",
       "1017                                       120  \n",
       "\n",
       "[1018 rows x 6 columns]"
      ]
     },
     "execution_count": 81,
     "metadata": {},
     "output_type": "execute_result"
    }
   ],
   "source": [
    "crime_df"
   ]
  },
  {
   "cell_type": "code",
   "execution_count": 82,
   "metadata": {},
   "outputs": [
    {
     "name": "stdout",
     "output_type": "stream",
     "text": [
      "<class 'pandas.core.frame.DataFrame'>\n",
      "RangeIndex: 1018 entries, 0 to 1017\n",
      "Data columns (total 6 columns):\n",
      " #   Column                                    Non-Null Count  Dtype\n",
      "---  ------                                    --------------  -----\n",
      " 0   Year                                      1018 non-null   int64\n",
      " 1   State                                     1018 non-null   int64\n",
      " 2   Gender Group                              1018 non-null   int64\n",
      " 3   Number Of Vicitms Between 18-30 Years     1018 non-null   int32\n",
      " 4   Number Of Vicitms Between 30-50 Years     1018 non-null   int32\n",
      " 5   Number Of Vicitms Between Above 50 Years  1018 non-null   int32\n",
      "dtypes: int32(3), int64(3)\n",
      "memory usage: 35.9 KB\n"
     ]
    }
   ],
   "source": [
    "crime_df.info()"
   ]
  },
  {
   "cell_type": "code",
   "execution_count": 83,
   "metadata": {},
   "outputs": [
    {
     "data": {
      "text/plain": [
       "'\\nfrom sklearn.preprocessing import MinMaxScaler\\nscale=MinMaxScaler()\\n'"
      ]
     },
     "execution_count": 83,
     "metadata": {},
     "output_type": "execute_result"
    }
   ],
   "source": [
    "\"\"\"\n",
    "from sklearn.preprocessing import MinMaxScaler\n",
    "scale=MinMaxScaler()\n",
    "\"\"\""
   ]
  },
  {
   "cell_type": "code",
   "execution_count": 84,
   "metadata": {},
   "outputs": [
    {
     "data": {
      "text/plain": [
       "'\\nscale.fit(crime_df[[\"Year\"]])\\ncrime_df[\"Year\"]=scale.transform(crime_df[[\"Year\"]])\\n'"
      ]
     },
     "execution_count": 84,
     "metadata": {},
     "output_type": "execute_result"
    }
   ],
   "source": [
    "\"\"\"\n",
    "scale.fit(crime_df[[\"Year\"]])\n",
    "crime_df[\"Year\"]=scale.transform(crime_df[[\"Year\"]])\n",
    "\"\"\""
   ]
  },
  {
   "cell_type": "code",
   "execution_count": 85,
   "metadata": {},
   "outputs": [
    {
     "data": {
      "text/plain": [
       "'\\nscale.fit(crime_df[[\"State\"]])\\ncrime_df[\"State\"]=scale.transform(crime_df[[\"State\"]])\\n'"
      ]
     },
     "execution_count": 85,
     "metadata": {},
     "output_type": "execute_result"
    }
   ],
   "source": [
    "\"\"\"\n",
    "scale.fit(crime_df[[\"State\"]])\n",
    "crime_df[\"State\"]=scale.transform(crime_df[[\"State\"]])\n",
    "\"\"\""
   ]
  },
  {
   "cell_type": "code",
   "execution_count": 86,
   "metadata": {},
   "outputs": [
    {
     "data": {
      "text/plain": [
       "'\\nscale.fit(crime_df[[\"Gender Group\"]])\\ncrime_df[\"Gender Group\"]=scale.transform(crime_df[[\"Gender Group\"]])\\n'"
      ]
     },
     "execution_count": 86,
     "metadata": {},
     "output_type": "execute_result"
    }
   ],
   "source": [
    "\"\"\"\n",
    "scale.fit(crime_df[[\"Gender Group\"]])\n",
    "crime_df[\"Gender Group\"]=scale.transform(crime_df[[\"Gender Group\"]])\n",
    "\"\"\""
   ]
  },
  {
   "cell_type": "code",
   "execution_count": 87,
   "metadata": {},
   "outputs": [
    {
     "data": {
      "text/html": [
       "<div>\n",
       "<style scoped>\n",
       "    .dataframe tbody tr th:only-of-type {\n",
       "        vertical-align: middle;\n",
       "    }\n",
       "\n",
       "    .dataframe tbody tr th {\n",
       "        vertical-align: top;\n",
       "    }\n",
       "\n",
       "    .dataframe thead th {\n",
       "        text-align: right;\n",
       "    }\n",
       "</style>\n",
       "<table border=\"1\" class=\"dataframe\">\n",
       "  <thead>\n",
       "    <tr style=\"text-align: right;\">\n",
       "      <th></th>\n",
       "      <th>Year</th>\n",
       "      <th>State</th>\n",
       "      <th>Gender Group</th>\n",
       "      <th>Number Of Vicitms Between 18-30 Years</th>\n",
       "      <th>Number Of Vicitms Between 30-50 Years</th>\n",
       "      <th>Number Of Vicitms Between Above 50 Years</th>\n",
       "    </tr>\n",
       "  </thead>\n",
       "  <tbody>\n",
       "    <tr>\n",
       "      <th>0</th>\n",
       "      <td>2001</td>\n",
       "      <td>0</td>\n",
       "      <td>0</td>\n",
       "      <td>4</td>\n",
       "      <td>2</td>\n",
       "      <td>67</td>\n",
       "    </tr>\n",
       "    <tr>\n",
       "      <th>1</th>\n",
       "      <td>2001</td>\n",
       "      <td>1</td>\n",
       "      <td>0</td>\n",
       "      <td>269</td>\n",
       "      <td>175</td>\n",
       "      <td>67</td>\n",
       "    </tr>\n",
       "    <tr>\n",
       "      <th>2</th>\n",
       "      <td>2001</td>\n",
       "      <td>2</td>\n",
       "      <td>0</td>\n",
       "      <td>10</td>\n",
       "      <td>4</td>\n",
       "      <td>2</td>\n",
       "    </tr>\n",
       "    <tr>\n",
       "      <th>3</th>\n",
       "      <td>2001</td>\n",
       "      <td>3</td>\n",
       "      <td>0</td>\n",
       "      <td>45</td>\n",
       "      <td>37</td>\n",
       "      <td>11</td>\n",
       "    </tr>\n",
       "    <tr>\n",
       "      <th>4</th>\n",
       "      <td>2001</td>\n",
       "      <td>4</td>\n",
       "      <td>0</td>\n",
       "      <td>191</td>\n",
       "      <td>123</td>\n",
       "      <td>12</td>\n",
       "    </tr>\n",
       "    <tr>\n",
       "      <th>...</th>\n",
       "      <td>...</td>\n",
       "      <td>...</td>\n",
       "      <td>...</td>\n",
       "      <td>...</td>\n",
       "      <td>...</td>\n",
       "      <td>...</td>\n",
       "    </tr>\n",
       "    <tr>\n",
       "      <th>1013</th>\n",
       "      <td>2010</td>\n",
       "      <td>28</td>\n",
       "      <td>2</td>\n",
       "      <td>650</td>\n",
       "      <td>839</td>\n",
       "      <td>200</td>\n",
       "    </tr>\n",
       "    <tr>\n",
       "      <th>1014</th>\n",
       "      <td>2010</td>\n",
       "      <td>29</td>\n",
       "      <td>2</td>\n",
       "      <td>60</td>\n",
       "      <td>73</td>\n",
       "      <td>24</td>\n",
       "    </tr>\n",
       "    <tr>\n",
       "      <th>1015</th>\n",
       "      <td>2010</td>\n",
       "      <td>30</td>\n",
       "      <td>2</td>\n",
       "      <td>1019</td>\n",
       "      <td>1004</td>\n",
       "      <td>200</td>\n",
       "    </tr>\n",
       "    <tr>\n",
       "      <th>1016</th>\n",
       "      <td>2010</td>\n",
       "      <td>31</td>\n",
       "      <td>2</td>\n",
       "      <td>91</td>\n",
       "      <td>63</td>\n",
       "      <td>19</td>\n",
       "    </tr>\n",
       "    <tr>\n",
       "      <th>1017</th>\n",
       "      <td>2010</td>\n",
       "      <td>32</td>\n",
       "      <td>2</td>\n",
       "      <td>1019</td>\n",
       "      <td>1004</td>\n",
       "      <td>120</td>\n",
       "    </tr>\n",
       "  </tbody>\n",
       "</table>\n",
       "<p>1018 rows × 6 columns</p>\n",
       "</div>"
      ],
      "text/plain": [
       "      Year  State  Gender Group  Number Of Vicitms Between 18-30 Years  \\\n",
       "0     2001      0             0                                      4   \n",
       "1     2001      1             0                                    269   \n",
       "2     2001      2             0                                     10   \n",
       "3     2001      3             0                                     45   \n",
       "4     2001      4             0                                    191   \n",
       "...    ...    ...           ...                                    ...   \n",
       "1013  2010     28             2                                    650   \n",
       "1014  2010     29             2                                     60   \n",
       "1015  2010     30             2                                   1019   \n",
       "1016  2010     31             2                                     91   \n",
       "1017  2010     32             2                                   1019   \n",
       "\n",
       "      Number Of Vicitms Between 30-50 Years  \\\n",
       "0                                         2   \n",
       "1                                       175   \n",
       "2                                         4   \n",
       "3                                        37   \n",
       "4                                       123   \n",
       "...                                     ...   \n",
       "1013                                    839   \n",
       "1014                                     73   \n",
       "1015                                   1004   \n",
       "1016                                     63   \n",
       "1017                                   1004   \n",
       "\n",
       "      Number Of Vicitms Between Above 50 Years  \n",
       "0                                           67  \n",
       "1                                           67  \n",
       "2                                            2  \n",
       "3                                           11  \n",
       "4                                           12  \n",
       "...                                        ...  \n",
       "1013                                       200  \n",
       "1014                                        24  \n",
       "1015                                       200  \n",
       "1016                                        19  \n",
       "1017                                       120  \n",
       "\n",
       "[1018 rows x 6 columns]"
      ]
     },
     "execution_count": 87,
     "metadata": {},
     "output_type": "execute_result"
    }
   ],
   "source": [
    "crime_df"
   ]
  },
  {
   "cell_type": "code",
   "execution_count": 88,
   "metadata": {},
   "outputs": [
    {
     "data": {
      "text/html": [
       "<div>\n",
       "<style scoped>\n",
       "    .dataframe tbody tr th:only-of-type {\n",
       "        vertical-align: middle;\n",
       "    }\n",
       "\n",
       "    .dataframe tbody tr th {\n",
       "        vertical-align: top;\n",
       "    }\n",
       "\n",
       "    .dataframe thead th {\n",
       "        text-align: right;\n",
       "    }\n",
       "</style>\n",
       "<table border=\"1\" class=\"dataframe\">\n",
       "  <thead>\n",
       "    <tr style=\"text-align: right;\">\n",
       "      <th></th>\n",
       "      <th>Year</th>\n",
       "      <th>State</th>\n",
       "      <th>Gender Group</th>\n",
       "    </tr>\n",
       "  </thead>\n",
       "  <tbody>\n",
       "    <tr>\n",
       "      <th>0</th>\n",
       "      <td>2001</td>\n",
       "      <td>0</td>\n",
       "      <td>0</td>\n",
       "    </tr>\n",
       "    <tr>\n",
       "      <th>1</th>\n",
       "      <td>2001</td>\n",
       "      <td>1</td>\n",
       "      <td>0</td>\n",
       "    </tr>\n",
       "    <tr>\n",
       "      <th>2</th>\n",
       "      <td>2001</td>\n",
       "      <td>2</td>\n",
       "      <td>0</td>\n",
       "    </tr>\n",
       "    <tr>\n",
       "      <th>3</th>\n",
       "      <td>2001</td>\n",
       "      <td>3</td>\n",
       "      <td>0</td>\n",
       "    </tr>\n",
       "    <tr>\n",
       "      <th>4</th>\n",
       "      <td>2001</td>\n",
       "      <td>4</td>\n",
       "      <td>0</td>\n",
       "    </tr>\n",
       "    <tr>\n",
       "      <th>...</th>\n",
       "      <td>...</td>\n",
       "      <td>...</td>\n",
       "      <td>...</td>\n",
       "    </tr>\n",
       "    <tr>\n",
       "      <th>1013</th>\n",
       "      <td>2010</td>\n",
       "      <td>28</td>\n",
       "      <td>2</td>\n",
       "    </tr>\n",
       "    <tr>\n",
       "      <th>1014</th>\n",
       "      <td>2010</td>\n",
       "      <td>29</td>\n",
       "      <td>2</td>\n",
       "    </tr>\n",
       "    <tr>\n",
       "      <th>1015</th>\n",
       "      <td>2010</td>\n",
       "      <td>30</td>\n",
       "      <td>2</td>\n",
       "    </tr>\n",
       "    <tr>\n",
       "      <th>1016</th>\n",
       "      <td>2010</td>\n",
       "      <td>31</td>\n",
       "      <td>2</td>\n",
       "    </tr>\n",
       "    <tr>\n",
       "      <th>1017</th>\n",
       "      <td>2010</td>\n",
       "      <td>32</td>\n",
       "      <td>2</td>\n",
       "    </tr>\n",
       "  </tbody>\n",
       "</table>\n",
       "<p>1018 rows × 3 columns</p>\n",
       "</div>"
      ],
      "text/plain": [
       "      Year  State  Gender Group\n",
       "0     2001      0             0\n",
       "1     2001      1             0\n",
       "2     2001      2             0\n",
       "3     2001      3             0\n",
       "4     2001      4             0\n",
       "...    ...    ...           ...\n",
       "1013  2010     28             2\n",
       "1014  2010     29             2\n",
       "1015  2010     30             2\n",
       "1016  2010     31             2\n",
       "1017  2010     32             2\n",
       "\n",
       "[1018 rows x 3 columns]"
      ]
     },
     "execution_count": 88,
     "metadata": {},
     "output_type": "execute_result"
    }
   ],
   "source": [
    "X=crime_df.drop(columns=[\"Number Of Vicitms Between 18-30 Years\",\"Number Of Vicitms Between 30-50 Years\",\"Number Of Vicitms Between Above 50 Years\"])\n",
    "X"
   ]
  },
  {
   "cell_type": "code",
   "execution_count": 89,
   "metadata": {},
   "outputs": [
    {
     "data": {
      "text/html": [
       "<div>\n",
       "<style scoped>\n",
       "    .dataframe tbody tr th:only-of-type {\n",
       "        vertical-align: middle;\n",
       "    }\n",
       "\n",
       "    .dataframe tbody tr th {\n",
       "        vertical-align: top;\n",
       "    }\n",
       "\n",
       "    .dataframe thead th {\n",
       "        text-align: right;\n",
       "    }\n",
       "</style>\n",
       "<table border=\"1\" class=\"dataframe\">\n",
       "  <thead>\n",
       "    <tr style=\"text-align: right;\">\n",
       "      <th></th>\n",
       "      <th>Number Of Vicitms Between 18-30 Years</th>\n",
       "      <th>Number Of Vicitms Between 30-50 Years</th>\n",
       "      <th>Number Of Vicitms Between Above 50 Years</th>\n",
       "    </tr>\n",
       "  </thead>\n",
       "  <tbody>\n",
       "    <tr>\n",
       "      <th>0</th>\n",
       "      <td>4</td>\n",
       "      <td>2</td>\n",
       "      <td>67</td>\n",
       "    </tr>\n",
       "    <tr>\n",
       "      <th>1</th>\n",
       "      <td>269</td>\n",
       "      <td>175</td>\n",
       "      <td>67</td>\n",
       "    </tr>\n",
       "    <tr>\n",
       "      <th>2</th>\n",
       "      <td>10</td>\n",
       "      <td>4</td>\n",
       "      <td>2</td>\n",
       "    </tr>\n",
       "    <tr>\n",
       "      <th>3</th>\n",
       "      <td>45</td>\n",
       "      <td>37</td>\n",
       "      <td>11</td>\n",
       "    </tr>\n",
       "    <tr>\n",
       "      <th>4</th>\n",
       "      <td>191</td>\n",
       "      <td>123</td>\n",
       "      <td>12</td>\n",
       "    </tr>\n",
       "    <tr>\n",
       "      <th>...</th>\n",
       "      <td>...</td>\n",
       "      <td>...</td>\n",
       "      <td>...</td>\n",
       "    </tr>\n",
       "    <tr>\n",
       "      <th>1013</th>\n",
       "      <td>650</td>\n",
       "      <td>839</td>\n",
       "      <td>200</td>\n",
       "    </tr>\n",
       "    <tr>\n",
       "      <th>1014</th>\n",
       "      <td>60</td>\n",
       "      <td>73</td>\n",
       "      <td>24</td>\n",
       "    </tr>\n",
       "    <tr>\n",
       "      <th>1015</th>\n",
       "      <td>1019</td>\n",
       "      <td>1004</td>\n",
       "      <td>200</td>\n",
       "    </tr>\n",
       "    <tr>\n",
       "      <th>1016</th>\n",
       "      <td>91</td>\n",
       "      <td>63</td>\n",
       "      <td>19</td>\n",
       "    </tr>\n",
       "    <tr>\n",
       "      <th>1017</th>\n",
       "      <td>1019</td>\n",
       "      <td>1004</td>\n",
       "      <td>120</td>\n",
       "    </tr>\n",
       "  </tbody>\n",
       "</table>\n",
       "<p>1018 rows × 3 columns</p>\n",
       "</div>"
      ],
      "text/plain": [
       "      Number Of Vicitms Between 18-30 Years  \\\n",
       "0                                         4   \n",
       "1                                       269   \n",
       "2                                        10   \n",
       "3                                        45   \n",
       "4                                       191   \n",
       "...                                     ...   \n",
       "1013                                    650   \n",
       "1014                                     60   \n",
       "1015                                   1019   \n",
       "1016                                     91   \n",
       "1017                                   1019   \n",
       "\n",
       "      Number Of Vicitms Between 30-50 Years  \\\n",
       "0                                         2   \n",
       "1                                       175   \n",
       "2                                         4   \n",
       "3                                        37   \n",
       "4                                       123   \n",
       "...                                     ...   \n",
       "1013                                    839   \n",
       "1014                                     73   \n",
       "1015                                   1004   \n",
       "1016                                     63   \n",
       "1017                                   1004   \n",
       "\n",
       "      Number Of Vicitms Between Above 50 Years  \n",
       "0                                           67  \n",
       "1                                           67  \n",
       "2                                            2  \n",
       "3                                           11  \n",
       "4                                           12  \n",
       "...                                        ...  \n",
       "1013                                       200  \n",
       "1014                                        24  \n",
       "1015                                       200  \n",
       "1016                                        19  \n",
       "1017                                       120  \n",
       "\n",
       "[1018 rows x 3 columns]"
      ]
     },
     "execution_count": 89,
     "metadata": {},
     "output_type": "execute_result"
    }
   ],
   "source": [
    "Y=crime_df.drop(columns=[\"Year\",\"State\",\"Gender Group\"])\n",
    "Y"
   ]
  },
  {
   "cell_type": "code",
   "execution_count": 90,
   "metadata": {},
   "outputs": [],
   "source": [
    "from sklearn.model_selection import train_test_split"
   ]
  },
  {
   "cell_type": "code",
   "execution_count": 91,
   "metadata": {},
   "outputs": [],
   "source": [
    "X_train,X_test,Y_train,Y_test=train_test_split(X,Y,test_size=0.3, random_state=5)"
   ]
  },
  {
   "cell_type": "code",
   "execution_count": 92,
   "metadata": {},
   "outputs": [],
   "source": [
    "from sklearn.linear_model import LinearRegression"
   ]
  },
  {
   "cell_type": "code",
   "execution_count": 93,
   "metadata": {},
   "outputs": [],
   "source": [
    "lin_reg=LinearRegression()"
   ]
  },
  {
   "cell_type": "code",
   "execution_count": 94,
   "metadata": {},
   "outputs": [
    {
     "data": {
      "text/plain": [
       "LinearRegression()"
      ]
     },
     "execution_count": 94,
     "metadata": {},
     "output_type": "execute_result"
    }
   ],
   "source": [
    "lin_reg.fit(X_train,Y_train)   # Training our model"
   ]
  },
  {
   "cell_type": "code",
   "execution_count": 95,
   "metadata": {},
   "outputs": [
    {
     "data": {
      "text/plain": [
       "array([[ 9.08391959e+03,  8.53019890e+03,  1.36915437e+03],\n",
       "       [ 1.44233091e+04,  1.32575478e+04,  2.12037235e+03],\n",
       "       [ 3.80670273e+03,  1.15864455e+03, -3.04519167e+02],\n",
       "       [ 4.37776146e+03,  1.88361898e+03, -1.45432310e+02],\n",
       "       [ 4.25307303e+03,  1.65389980e+03, -2.07342402e+02],\n",
       "       [ 7.32609079e+03,  6.62992137e+03,  9.92450130e+02],\n",
       "       [ 3.57752772e+03,  9.02334738e+02, -3.55941634e+02],\n",
       "       [ 3.66922107e+03,  1.01395311e+03, -3.33072680e+02],\n",
       "       [ 2.33648252e+04,  2.45287383e+04,  4.52074063e+03],\n",
       "       [ 1.62798583e+04,  1.57814813e+04,  2.68174364e+03],\n",
       "       [ 1.24403011e+04,  1.12743557e+04,  1.75397925e+03],\n",
       "       [ 3.71404430e+03,  1.04354629e+03, -3.28843501e+02],\n",
       "       [ 3.67757355e+03,  1.02397884e+03, -3.30119485e+02],\n",
       "       [ 3.67890463e+03,  1.02590822e+03, -3.29489688e+02],\n",
       "       [ 3.78344258e+03,  1.14365852e+03, -3.06535863e+02],\n",
       "       [ 1.17398223e+04,  1.09566432e+04,  1.76765982e+03],\n",
       "       [ 4.47883771e+03,  1.96305552e+03, -1.40096394e+02],\n",
       "       [ 8.96830526e+03,  7.55261267e+03,  1.04927628e+03],\n",
       "       [ 3.70156569e+03,  1.03586385e+03, -3.29753956e+02],\n",
       "       [ 1.65548220e+04,  1.61552278e+04,  2.75874379e+03],\n",
       "       [ 3.56977434e+03,  8.97339396e+02, -3.56613866e+02],\n",
       "       [ 5.02515613e+03,  2.73284962e+03,  3.57080676e+01],\n",
       "       [ 1.49520929e+04,  1.41632862e+04,  2.34472713e+03],\n",
       "       [ 3.81991333e+03,  1.16322597e+03, -3.05259880e+02],\n",
       "       [ 6.18555639e+03,  3.99014954e+03,  2.88248326e+02],\n",
       "       [ 3.81409013e+03,  1.16519040e+03, -3.03021352e+02],\n",
       "       [ 5.59162000e+03,  3.27939849e+03,  1.30780349e+02],\n",
       "       [ 7.70275147e+03,  6.14177213e+03,  7.67040079e+02],\n",
       "       [ 1.82155789e+04,  1.75930391e+04,  2.99688109e+03],\n",
       "       [ 1.21717946e+04,  1.09640749e+04,  1.70600183e+03],\n",
       "       [ 6.86520913e+03,  4.62536791e+03,  3.90392560e+02],\n",
       "       [ 6.44872204e+03,  4.26195284e+03,  3.29245406e+02],\n",
       "       [ 1.39632941e+04,  1.25529785e+04,  1.96696614e+03],\n",
       "       [ 4.75440014e+03,  2.25746879e+03, -8.07084055e+01],\n",
       "       [ 3.36141675e+03,  8.79948459e+02, -3.28896492e+02],\n",
       "       [ 4.60913745e+03,  2.46583983e+03,  2.07251047e+01],\n",
       "       [ 3.60178815e+03,  1.06556397e+03, -3.03596141e+02],\n",
       "       [ 3.90748055e+03,  1.27718763e+03, -2.80348185e+02],\n",
       "       [ 2.35199582e+04,  2.45829577e+04,  4.51224365e+03],\n",
       "       [ 3.69853753e+03,  1.03355561e+03, -3.30187965e+02],\n",
       "       [ 6.08907027e+03,  3.83828803e+03,  2.47131666e+02],\n",
       "       [ 8.73182469e+03,  7.27482949e+03,  9.78875549e+02],\n",
       "       [ 8.55800485e+03,  7.01807562e+03,  9.25220796e+02],\n",
       "       [ 5.75439425e+03,  4.85632815e+03,  6.45427781e+02],\n",
       "       [ 2.33648252e+04,  2.45287383e+04,  4.52074063e+03],\n",
       "       [ 3.82390658e+03,  1.16901409e+03, -3.03370490e+02],\n",
       "       [ 4.05115141e+03,  1.41836414e+03, -2.54858783e+02],\n",
       "       [ 1.18718712e+04,  1.04073566e+04,  1.56733654e+03],\n",
       "       [ 2.37615135e+04,  2.48311175e+04,  4.57759587e+03],\n",
       "       [ 6.01370222e+03,  3.96948233e+03,  3.06270876e+02],\n",
       "       [ 3.80404057e+03,  1.15478580e+03, -3.05778760e+02],\n",
       "       [ 1.12485796e+04,  1.04238786e+04,  1.67276352e+03],\n",
       "       [ 1.57430227e+04,  1.49098541e+04,  2.47555169e+03],\n",
       "       [ 2.43335647e+04,  2.51171505e+04,  4.58758573e+03],\n",
       "       [ 2.33648252e+04,  2.45287383e+04,  4.52074063e+03],\n",
       "       [ 2.33648252e+04,  2.45287383e+04,  4.52074063e+03],\n",
       "       [ 6.30054256e+03,  4.09391021e+03,  3.02163169e+02],\n",
       "       [ 3.69477739e+03,  1.03434839e+03, -3.28970808e+02],\n",
       "       [ 7.17078765e+03,  5.04348995e+03,  4.81878030e+02],\n",
       "       [ 6.82537942e+03,  4.74980605e+03,  4.38381567e+02],\n",
       "       [ 4.99903307e+03,  2.60021665e+03, -1.53870120e+00],\n",
       "       [ 1.89811230e+04,  1.86234508e+04,  3.22838929e+03],\n",
       "       [ 3.71424504e+03,  1.15733449e+03, -2.94873021e+02],\n",
       "       [ 1.73005978e+04,  1.70185164e+04,  2.93503817e+03],\n",
       "       [ 3.93147268e+03,  1.28907264e+03, -2.79982656e+02],\n",
       "       [ 1.74670268e+04,  1.68480266e+04,  2.86767151e+03],\n",
       "       [ 3.70459384e+03,  1.03817209e+03, -3.29319946e+02],\n",
       "       [ 1.28791834e+04,  1.16639892e+04,  1.82272640e+03],\n",
       "       [ 2.55599936e+04,  2.57794129e+04,  4.63253546e+03],\n",
       "       [ 2.47171709e+04,  2.52403299e+04,  4.56134735e+03],\n",
       "       [ 6.71930917e+03,  5.74431125e+03,  7.95111029e+02],\n",
       "       [ 1.24439126e+04,  1.28163617e+04,  2.24608913e+03],\n",
       "       [ 1.03066680e+04,  9.09508310e+03,  1.35788971e+03],\n",
       "       [ 4.89154237e+03,  3.10489886e+03,  1.92508746e+02],\n",
       "       [ 8.43022827e+03,  7.25131331e+03,  1.02439988e+03],\n",
       "       [ 1.09778928e+04,  9.09553499e+03,  1.23964547e+03],\n",
       "       [ 3.41313321e+03,  1.17661994e+03, -2.18616463e+02],\n",
       "       [ 5.71273002e+03,  3.42533168e+03,  1.63572694e+02],\n",
       "       [ 6.89140005e+03,  4.87992048e+03,  4.65541939e+02],\n",
       "       [ 4.62590273e+03,  2.10498976e+03, -1.14998567e+02],\n",
       "       [ 1.01202344e+04,  8.75553472e+03,  1.26730554e+03],\n",
       "       [ 1.34884398e+04,  1.21340956e+04,  1.89218530e+03],\n",
       "       [ 1.27221978e+04,  1.23107943e+04,  2.08569899e+03],\n",
       "       [ 1.23166558e+04,  1.05281275e+04,  1.53662736e+03],\n",
       "       [ 4.51326158e+03,  1.93019097e+03, -1.53231007e+02],\n",
       "       [ 1.04482615e+04,  9.28991480e+03,  1.41989043e+03],\n",
       "       [ 6.98124443e+03,  4.80092442e+03,  4.28233426e+02],\n",
       "       [ 4.22696897e+03,  1.71963381e+03, -1.80283787e+02],\n",
       "       [ 2.52531004e+04,  2.53901214e+04,  4.54488136e+03],\n",
       "       [ 2.47121865e+04,  2.55036361e+04,  4.68882668e+03],\n",
       "       [ 6.26210645e+03,  3.92261967e+03,  2.49103009e+02],\n",
       "       [ 3.57546465e+03,  9.03506382e+02, -3.54920264e+02],\n",
       "       [ 1.42525853e+04,  1.31250218e+04,  2.10505421e+03],\n",
       "       [ 3.46458844e+03,  8.51006066e+02, -3.55445881e+02],\n",
       "       [ 1.17941637e+04,  9.71683000e+03,  1.35619823e+03],\n",
       "       [ 6.15799653e+03,  4.73363386e+03,  5.37928199e+02],\n",
       "       [ 3.51482003e+03,  9.56632703e+02, -3.26226873e+02],\n",
       "       [ 3.71080456e+03,  1.40063117e+03, -2.08234450e+02],\n",
       "       [ 3.58794327e+03,  9.11188827e+02, -3.54009809e+02],\n",
       "       [ 2.33648252e+04,  2.45287383e+04,  4.52074063e+03],\n",
       "       [ 8.70798100e+03,  7.03248229e+03,  9.19359670e+02],\n",
       "       [ 3.57982389e+03,  9.07743994e+02, -3.53856458e+02],\n",
       "       [ 6.09308000e+03,  3.87483608e+03,  2.53482215e+02],\n",
       "       [ 8.26148629e+03,  7.30127030e+03,  1.06532709e+03],\n",
       "       [ 5.59614448e+03,  3.16829740e+03,  9.70480911e+01],\n",
       "       [ 1.17448838e+04,  9.92025750e+03,  1.42360392e+03],\n",
       "       [ 3.42216159e+03,  8.41534450e+02, -3.50551206e+02],\n",
       "       [ 1.08821887e+04,  1.00066145e+04,  1.58492328e+03],\n",
       "       [ 2.47954040e+04,  2.53100260e+04,  4.57738931e+03],\n",
       "       [ 1.34916227e+04,  1.25786100e+04,  2.03272991e+03],\n",
       "       [ 4.37563336e+03,  2.01484164e+03, -1.02576199e+02],\n",
       "       [ 4.36259114e+03,  2.23125570e+03, -3.70010734e+01],\n",
       "       [ 3.55995789e+03,  8.93515699e+02, -3.56264728e+02],\n",
       "       [ 2.33648252e+04,  2.45287383e+04,  4.52074063e+03],\n",
       "       [ 1.20466913e+04,  1.08123536e+04,  1.67132009e+03],\n",
       "       [ 2.33648252e+04,  2.45287383e+04,  4.52074063e+03],\n",
       "       [ 4.62164371e+03,  2.11546446e+03, -1.09023696e+02],\n",
       "       [ 6.26069195e+03,  4.02110148e+03,  2.65788821e+02],\n",
       "       [ 1.93638317e+04,  1.87807063e+04,  3.21870502e+03],\n",
       "       [ 2.46286573e+04,  2.52368918e+04,  4.57939254e+03],\n",
       "       [ 1.18062763e+04,  9.72606295e+03,  1.35793427e+03],\n",
       "       [ 3.79555520e+03,  1.15289148e+03, -3.04799825e+02],\n",
       "       [ 4.33886196e+03,  1.95113725e+03, -1.24968213e+02],\n",
       "       [ 6.21511993e+03,  3.87948582e+03,  2.38856523e+02],\n",
       "       [ 2.49547961e+04,  2.53537707e+04,  4.56291747e+03],\n",
       "       [ 4.59600335e+03,  2.02675322e+03, -1.35596212e+02],\n",
       "       [ 4.53342854e+03,  2.07291977e+03, -1.09813580e+02],\n",
       "       [ 1.38968459e+04,  1.29751633e+04,  2.10198970e+03],\n",
       "       [ 1.50099780e+04,  1.43435595e+04,  2.38747282e+03],\n",
       "       [ 1.16896887e+04,  1.07824854e+04,  1.70552839e+03],\n",
       "       [ 2.46987340e+04,  2.51594998e+04,  4.52665646e+03],\n",
       "       [ 5.02412350e+03,  2.69181370e+03,  1.62432040e+01],\n",
       "       [ 3.90838060e+03,  1.41071853e+03, -2.37058065e+02],\n",
       "       [ 7.28800465e+03,  5.19834733e+03,  5.19819663e+02],\n",
       "       [ 7.03206459e+03,  5.46912633e+03,  6.34640065e+02],\n",
       "       [ 1.70502580e+04,  1.66388416e+04,  2.84971371e+03],\n",
       "       [ 3.51899501e+03,  8.77842046e+02, -3.54672387e+02],\n",
       "       [ 1.80219586e+04,  1.86730697e+04,  3.37294627e+03],\n",
       "       [ 2.33648252e+04,  2.45287383e+04,  4.52074063e+03],\n",
       "       [ 1.18049452e+04,  9.72413358e+03,  1.35730448e+03],\n",
       "       [ 6.11304622e+03,  3.90377668e+03,  2.62929161e+02],\n",
       "       [ 2.33648252e+04,  2.45287383e+04,  4.52074063e+03],\n",
       "       [ 1.36608471e+04,  1.24882112e+04,  1.98258383e+03],\n",
       "       [ 1.10266867e+04,  9.82418821e+03,  1.49611174e+03],\n",
       "       [ 2.52667963e+04,  2.56062316e+04,  4.61465912e+03],\n",
       "       [ 3.67175034e+03,  1.02594327e+03, -3.27880957e+02],\n",
       "       [ 1.53874324e+04,  1.46982606e+04,  2.45312308e+03],\n",
       "       [ 3.83202595e+03,  1.17245893e+03, -3.03523842e+02],\n",
       "       [ 5.48235682e+03,  3.15896108e+03,  1.07588301e+02],\n",
       "       [ 4.48586163e+03,  2.13875893e+03, -7.79287715e+01],\n",
       "       [ 4.80438245e+03,  2.41011817e+03, -3.91639775e+01],\n",
       "       [ 6.04556194e+03,  3.86422787e+03,  2.58964250e+02],\n",
       "       [ 5.65938624e+03,  3.24908084e+03,  1.11449033e+02],\n",
       "       [ 2.46895515e+04,  2.52211063e+04,  4.55826685e+03],\n",
       "       [ 1.01610228e+04,  9.27424472e+03,  1.45568765e+03],\n",
       "       [ 6.83808030e+03,  5.23725071e+03,  5.97412110e+02],\n",
       "       [ 4.71012716e+03,  2.30935337e+03, -5.62538475e+01],\n",
       "       [ 3.69041815e+03,  1.03011078e+03, -3.30034614e+02],\n",
       "       [ 3.76600564e+03,  1.12670807e+03, -3.10791087e+02],\n",
       "       [ 3.93964876e+03,  1.80325482e+03, -1.07112982e+02],\n",
       "       [ 5.42770316e+03,  3.26239133e+03,  1.59091325e+02],\n",
       "       [ 1.41022945e+04,  1.32033253e+04,  2.14518237e+03],\n",
       "       [ 5.31241383e+03,  2.94688667e+03,  6.42162273e+01],\n",
       "       [ 1.12932121e+04,  1.15174133e+04,  1.98169990e+03],\n",
       "       [ 1.29370952e+04,  1.12331139e+04,  1.67513345e+03],\n",
       "       [ 1.20611677e+04,  1.08645519e+04,  1.69315079e+03],\n",
       "       [ 5.96530059e+03,  3.85610315e+03,  2.72923951e+02],\n",
       "       [ 3.58321804e+03,  9.08501724e+02, -3.54248032e+02],\n",
       "       [ 2.33648252e+04,  2.45287383e+04,  4.52074063e+03],\n",
       "       [ 3.58679675e+03,  1.07665129e+03, -3.05237159e+02],\n",
       "       [ 1.28955713e+04,  1.16091438e+04,  1.80305560e+03],\n",
       "       [ 2.44163531e+04,  2.50540219e+04,  4.53886665e+03],\n",
       "       [ 3.69550938e+03,  1.03124737e+03, -3.30621975e+02],\n",
       "       [ 3.98293514e+03,  1.38191634e+03, -2.57172528e+02],\n",
       "       [ 1.30518368e+04,  1.16347478e+04,  1.80116904e+03],\n",
       "       [ 1.24553933e+04,  1.14467078e+04,  1.80244520e+03],\n",
       "       [ 1.28120332e+04,  1.32111609e+04,  2.32276278e+03],\n",
       "       [ 1.52918784e+04,  1.44883592e+04,  2.40453948e+03],\n",
       "       [ 1.73677811e+04,  1.69295647e+04,  2.89799393e+03],\n",
       "       [ 1.04923128e+04,  8.92699515e+03,  1.27710203e+03],\n",
       "       [ 5.75110111e+03,  3.72667323e+03,  2.58467595e+02],\n",
       "       [ 4.72137994e+03,  2.66503285e+03,  7.07539353e+01],\n",
       "       [ 1.17928326e+04,  9.71490062e+03,  1.35556844e+03],\n",
       "       [ 5.93272287e+03,  3.82761151e+03,  2.66498680e+02],\n",
       "       [ 1.29800293e+04,  1.33011521e+04,  2.33886981e+03],\n",
       "       [ 1.18002200e+04,  9.72144647e+03,  1.35706625e+03],\n",
       "       [ 3.70459384e+03,  1.03817209e+03, -3.29319946e+02],\n",
       "       [ 3.81954734e+03,  1.16477648e+03, -3.04434296e+02],\n",
       "       [ 7.25756036e+03,  5.45821069e+03,  6.10119856e+02],\n",
       "       [ 4.49775481e+03,  1.92020029e+03, -1.54575471e+02],\n",
       "       [ 3.56165496e+03,  8.93894564e+02, -3.56460515e+02],\n",
       "       [ 5.29658992e+03,  2.86199913e+03,  3.72945732e+01],\n",
       "       [ 1.39367786e+04,  1.31174081e+04,  2.14077671e+03],\n",
       "       [ 5.22511239e+03,  2.81666219e+03,  3.14402723e+01],\n",
       "       [ 4.91875303e+03,  2.47808853e+03, -3.19912574e+01],\n",
       "       [ 6.93177718e+03,  4.58498947e+03,  3.66499318e+02],\n",
       "       [ 7.49547003e+03,  5.66939208e+03,  6.48237968e+02],\n",
       "       [ 6.36037681e+03,  4.47951019e+03,  4.12125002e+02],\n",
       "       [ 3.81082887e+03,  1.15630126e+03, -3.06561908e+02],\n",
       "       [ 2.39806718e+04,  2.37418424e+04,  4.18111343e+03],\n",
       "       [ 7.64878187e+03,  6.57163943e+03,  9.02974088e+02],\n",
       "       [ 1.17300528e+04,  1.08774922e+04,  1.72154821e+03],\n",
       "       [ 2.38574799e+04,  2.47954141e+04,  4.53910689e+03],\n",
       "       [ 3.63957380e+03,  1.14066444e+03, -2.86258394e+02],\n",
       "       [ 3.59761065e+03,  9.76747580e+02, -3.34994851e+02],\n",
       "       [ 3.59000633e+03,  9.10017182e+02, -3.55031179e+02],\n",
       "       [ 4.41547956e+03,  1.92116342e+03, -1.46104047e+02],\n",
       "       [ 1.09778928e+04,  9.09553499e+03,  1.23964547e+03],\n",
       "       [ 5.19320162e+03,  2.91512054e+03,  6.51985746e+01],\n",
       "       [ 1.01474470e+04,  8.12760430e+03,  1.06286351e+03],\n",
       "       [ 3.57776083e+03,  9.08915639e+02, -3.52835087e+02],\n",
       "       [ 3.58528110e+03,  9.07330079e+02, -3.55269402e+02],\n",
       "       [ 3.80633674e+03,  1.16019506e+03, -3.03693584e+02],\n",
       "       [ 3.70966888e+03,  1.09291233e+03, -3.14475340e+02],\n",
       "       [ 1.27573056e+04,  1.12076666e+04,  1.70292555e+03],\n",
       "       [ 5.09886449e+03,  2.82928326e+03,  6.55891588e+01],\n",
       "       [ 3.71065015e+03,  1.04278856e+03, -3.28451927e+02],\n",
       "       [ 1.07497875e+04,  9.02390433e+03,  1.27661926e+03],\n",
       "       [ 3.56055698e+03,  8.98546091e+02, -3.53983764e+02],\n",
       "       [ 1.01797995e+04,  8.73669975e+03,  1.26560803e+03],\n",
       "       [ 6.54382571e+03,  4.32072530e+03,  3.36290819e+02],\n",
       "       [ 1.00814323e+04,  8.58579468e+03,  1.21507096e+03],\n",
       "       [ 2.48351687e+04,  2.53156389e+04,  4.57123505e+03],\n",
       "       [ 2.01302022e+04,  2.06311247e+04,  3.73030272e+03],\n",
       "       [ 1.66568113e+04,  1.59782574e+04,  2.69230738e+03],\n",
       "       [ 3.48252960e+03,  1.27785226e+03, -2.16366796e+02],\n",
       "       [ 3.65303399e+03,  1.18258669e+03, -2.79431400e+02],\n",
       "       [ 1.18066423e+04,  9.72451244e+03,  1.35710869e+03],\n",
       "       [ 9.50170588e+03,  7.77477756e+03,  1.04751169e+03],\n",
       "       [ 1.51343925e+04,  1.39179932e+04,  2.23792825e+03],\n",
       "       [ 8.94189491e+03,  7.07026851e+03,  8.95744169e+02],\n",
       "       [ 4.07101742e+03,  1.43259243e+03, -2.52450513e+02],\n",
       "       [ 4.00233494e+03,  1.38298283e+03, -2.60977351e+02],\n",
       "       [ 3.62559603e+03,  9.94420708e+02, -3.32739932e+02],\n",
       "       [ 2.33648252e+04,  2.45287383e+04,  4.52074063e+03],\n",
       "       [ 3.55220450e+03,  8.88520357e+02, -3.56936960e+02],\n",
       "       [ 3.70798799e+03,  1.03892982e+03, -3.29711520e+02],\n",
       "       [ 3.80390768e+03,  1.16291721e+03, -3.01846630e+02],\n",
       "       [ 7.72301614e+03,  6.13160620e+03,  7.57651958e+02],\n",
       "       [ 1.09829841e+04,  9.09667158e+03,  1.23905811e+03],\n",
       "       [ 3.44505575e+03,  8.58070984e+02, -3.47708927e+02],\n",
       "       [ 8.42039970e+03,  7.89051816e+03,  1.19949084e+03],\n",
       "       [ 6.47995250e+03,  4.34211875e+03,  3.50472847e+02],\n",
       "       [ 1.18036141e+04,  9.72220420e+03,  1.35667468e+03],\n",
       "       [ 2.35677116e+04,  2.46833903e+04,  4.54981926e+03],\n",
       "       [ 7.71735787e+03,  5.93386835e+03,  7.05201296e+02],\n",
       "       [ 1.18079734e+04,  9.72644181e+03,  1.35773849e+03],\n",
       "       [ 3.68266477e+03,  1.02511544e+03, -3.30706846e+02],\n",
       "       [ 3.74328206e+03,  1.41441050e+03, -2.08847855e+02],\n",
       "       [ 3.58830926e+03,  9.09638318e+02, -3.54835393e+02],\n",
       "       [ 3.43913233e+03,  8.45323096e+02, -3.52509076e+02],\n",
       "       [ 4.34283871e+03,  1.92616545e+03, -1.27539983e+02],\n",
       "       [ 3.61591247e+03,  9.82465600e+02, -3.36322924e+02],\n",
       "       [ 7.00543762e+03,  5.01096119e+03,  4.82462562e+02],\n",
       "       [ 1.20460970e+04,  1.10581738e+04,  1.76883445e+03],\n",
       "       [ 3.69853753e+03,  1.03355561e+03, -3.30187965e+02],\n",
       "       [ 4.87702299e+03,  2.32075257e+03, -7.76211670e+01],\n",
       "       [ 6.45486238e+03,  4.33488528e+03,  3.52584068e+02],\n",
       "       [ 2.44374173e+04,  2.50783109e+04,  4.54583685e+03],\n",
       "       [ 2.33648252e+04,  2.45287383e+04,  4.52074063e+03],\n",
       "       [ 7.65171972e+03,  5.83296334e+03,  6.81676501e+02],\n",
       "       [ 1.03782429e+04,  8.90316173e+03,  1.29104534e+03],\n",
       "       [ 2.12062407e+04,  2.15257054e+04,  3.84812819e+03],\n",
       "       [ 3.71404430e+03,  1.04354629e+03, -3.28843501e+02],\n",
       "       [ 4.25103462e+03,  2.35737965e+03,  1.74590530e+01],\n",
       "       [ 9.72873614e+03,  9.44388675e+03,  1.57150580e+03],\n",
       "       [ 5.06119303e+03,  2.63204797e+03, -9.29754367e-02],\n",
       "       [ 5.03094415e+03,  2.58612187e+03, -1.54038772e+01],\n",
       "       [ 1.21349230e+04,  1.08856582e+04,  1.67657114e+03],\n",
       "       [ 2.33648252e+04,  2.45287383e+04,  4.52074063e+03],\n",
       "       [ 6.13840745e+03,  4.31432501e+03,  3.92535254e+02],\n",
       "       [ 9.75045991e+03,  7.77996804e+03,  1.00495021e+03],\n",
       "       [ 6.82131832e+03,  4.62209833e+03,  3.98589568e+02],\n",
       "       [ 1.06977294e+04,  9.34672799e+03,  1.37105177e+03],\n",
       "       [ 1.87641399e+04,  1.81938393e+04,  3.10137818e+03],\n",
       "       [ 5.01527214e+03,  2.69146989e+03,  1.80477222e+01],\n",
       "       [ 4.10407784e+03,  1.50500580e+03, -2.35350989e+02],\n",
       "       [ 1.76282329e+04,  1.70219860e+04,  2.88439684e+03],\n",
       "       [ 4.25540438e+03,  1.80407238e+03, -1.56383808e+02],\n",
       "       [ 2.33648252e+04,  2.45287383e+04,  4.52074063e+03],\n",
       "       [ 5.08481918e+03,  2.64548349e+03,  1.09813710e+00],\n",
       "       [ 4.63803153e+03,  2.06061907e+03, -1.28694495e+02],\n",
       "       [ 1.08317280e+04,  1.04838319e+04,  1.71190758e+03],\n",
       "       [ 3.93316976e+03,  1.28945150e+03, -2.80178443e+02],\n",
       "       [ 9.01431020e+03,  7.56150672e+03,  1.05360623e+03],\n",
       "       [ 1.15717067e+04,  1.05692092e+04,  1.66031560e+03],\n",
       "       [ 5.59135422e+03,  3.29566131e+03,  1.38644609e+02],\n",
       "       [ 1.18036141e+04,  9.72220420e+03,  1.35667468e+03],\n",
       "       [ 1.14708119e+04,  1.03208303e+04,  1.60475166e+03],\n",
       "       [ 3.58152097e+03,  9.08122859e+02, -3.54052245e+02],\n",
       "       [ 4.39829190e+03,  1.85719022e+03, -1.62684690e+02],\n",
       "       [ 8.60979750e+03,  6.79587835e+03,  8.58545670e+02],\n",
       "       [ 2.47997386e+04,  2.46119554e+04,  4.35467304e+03],\n",
       "       [ 3.68812198e+03,  1.02470152e+03, -3.32119790e+02],\n",
       "       [ 9.58190189e+03,  7.82858973e+03,  1.05549360e+03],\n",
       "       [ 5.09949375e+03,  2.64386288e+03, -2.94490892e+00],\n",
       "       [ 4.17316150e+03,  1.69782822e+03, -1.78776317e+02],\n",
       "       [ 4.14514093e+03,  1.53539176e+03, -2.29904653e+02],\n",
       "       [ 4.98603689e+03,  2.48821273e+03, -4.21036995e+01],\n",
       "       [ 1.63705329e+04,  1.70275533e+04,  3.06394136e+03],\n",
       "       [ 3.75557642e+03,  1.33906468e+03, -2.37446721e+02],\n",
       "       [ 5.15306812e+03,  2.65908757e+03, -7.55892514e+00],\n",
       "       [ 1.92319857e+04,  1.95270247e+04,  3.49294987e+03],\n",
       "       [ 3.44252648e+03,  8.46080825e+02, -3.52900650e+02],\n",
       "       [ 8.87764014e+03,  7.31554326e+03,  9.65969999e+02],\n",
       "       [ 4.04036987e+03,  1.41106056e+03, -2.55965025e+02]])"
      ]
     },
     "execution_count": 95,
     "metadata": {},
     "output_type": "execute_result"
    }
   ],
   "source": [
    "lin_reg.predict(Y_test)"
   ]
  },
  {
   "cell_type": "code",
   "execution_count": 96,
   "metadata": {},
   "outputs": [
    {
     "data": {
      "text/plain": [
       "0.10019775636019712"
      ]
     },
     "execution_count": 96,
     "metadata": {},
     "output_type": "execute_result"
    }
   ],
   "source": [
    "lin_reg.score(X_test,Y_test)"
   ]
  },
  {
   "cell_type": "code",
   "execution_count": 97,
   "metadata": {},
   "outputs": [
    {
     "data": {
      "text/plain": [
       "DecisionTreeRegressor()"
      ]
     },
     "execution_count": 97,
     "metadata": {},
     "output_type": "execute_result"
    }
   ],
   "source": [
    "from sklearn.tree import DecisionTreeRegressor\n",
    "tree_model=DecisionTreeRegressor()\n",
    "tree_model.fit(X_train,Y_train)"
   ]
  },
  {
   "cell_type": "code",
   "execution_count": 98,
   "metadata": {},
   "outputs": [
    {
     "data": {
      "text/plain": [
       "DecisionTreeRegressor()"
      ]
     },
     "execution_count": 98,
     "metadata": {},
     "output_type": "execute_result"
    }
   ],
   "source": [
    "tree_model.fit(X_train,Y_train)"
   ]
  },
  {
   "cell_type": "code",
   "execution_count": 99,
   "metadata": {},
   "outputs": [
    {
     "data": {
      "text/plain": [
       "array([[1.000e+00, 2.000e+00, 6.700e+01],\n",
       "       [1.000e+00, 2.000e+00, 6.700e+01],\n",
       "       [5.550e+02, 7.350e+02, 2.000e+02],\n",
       "       [4.900e+02, 3.850e+02, 7.200e+01],\n",
       "       [1.300e+02, 8.600e+01, 6.000e+00],\n",
       "       [1.000e+00, 2.000e+00, 6.700e+01],\n",
       "       [1.910e+02, 1.230e+02, 1.200e+01],\n",
       "       [3.850e+02, 4.680e+02, 1.670e+02],\n",
       "       [1.000e+00, 2.000e+00, 6.700e+01],\n",
       "       [1.000e+00, 2.000e+00, 6.700e+01],\n",
       "       [1.000e+00, 2.000e+00, 6.700e+01],\n",
       "       [3.000e+00, 3.000e+00, 6.700e+01],\n",
       "       [2.310e+02, 1.280e+02, 2.800e+01],\n",
       "       [1.530e+02, 3.570e+02, 8.000e+01],\n",
       "       [4.530e+02, 5.210e+02, 1.910e+02],\n",
       "       [1.000e+00, 2.000e+00, 6.700e+01],\n",
       "       [1.000e+00, 2.000e+00, 6.700e+01],\n",
       "       [1.000e+00, 2.000e+00, 6.700e+01],\n",
       "       [5.770e+02, 3.680e+02, 6.700e+01],\n",
       "       [1.000e+00, 2.000e+00, 6.700e+01],\n",
       "       [2.140e+02, 1.820e+02, 6.300e+01],\n",
       "       [1.000e+00, 2.000e+00, 6.700e+01],\n",
       "       [1.000e+00, 2.000e+00, 6.700e+01],\n",
       "       [5.000e+00, 6.000e+00, 4.000e+00],\n",
       "       [1.000e+00, 2.000e+00, 6.700e+01],\n",
       "       [5.770e+02, 3.680e+02, 6.700e+01],\n",
       "       [1.000e+00, 2.000e+00, 6.700e+01],\n",
       "       [1.000e+00, 2.000e+00, 6.700e+01],\n",
       "       [1.000e+00, 2.000e+00, 6.700e+01],\n",
       "       [1.000e+00, 2.000e+00, 6.700e+01],\n",
       "       [1.000e+00, 2.000e+00, 6.700e+01],\n",
       "       [1.000e+00, 2.000e+00, 6.700e+01],\n",
       "       [1.000e+00, 2.000e+00, 6.700e+01],\n",
       "       [1.000e+00, 2.000e+00, 6.700e+01],\n",
       "       [1.000e+00, 2.000e+00, 6.700e+01],\n",
       "       [1.000e+00, 2.000e+00, 6.700e+01],\n",
       "       [1.000e+00, 2.000e+00, 6.700e+01],\n",
       "       [4.000e+01, 6.100e+01, 1.400e+01],\n",
       "       [1.000e+00, 2.000e+00, 6.700e+01],\n",
       "       [1.019e+03, 1.004e+03, 2.000e+02],\n",
       "       [1.000e+00, 2.000e+00, 6.700e+01],\n",
       "       [1.000e+00, 2.000e+00, 6.700e+01],\n",
       "       [1.000e+00, 2.000e+00, 6.700e+01],\n",
       "       [1.000e+00, 2.000e+00, 6.700e+01],\n",
       "       [1.000e+00, 2.000e+00, 6.700e+01],\n",
       "       [4.100e+01, 3.600e+01, 6.000e+00],\n",
       "       [1.500e+01, 1.800e+01, 3.000e+00],\n",
       "       [1.000e+00, 2.000e+00, 6.700e+01],\n",
       "       [1.000e+00, 2.000e+00, 6.700e+01],\n",
       "       [1.000e+00, 2.000e+00, 6.700e+01],\n",
       "       [1.500e+01, 1.800e+01, 3.000e+00],\n",
       "       [1.000e+00, 2.000e+00, 6.700e+01],\n",
       "       [1.000e+00, 2.000e+00, 6.700e+01],\n",
       "       [1.000e+00, 2.000e+00, 6.700e+01],\n",
       "       [1.000e+00, 2.000e+00, 6.700e+01],\n",
       "       [1.000e+00, 2.000e+00, 6.700e+01],\n",
       "       [1.000e+00, 2.000e+00, 6.700e+01],\n",
       "       [5.770e+02, 3.680e+02, 6.700e+01],\n",
       "       [1.000e+00, 2.000e+00, 6.700e+01],\n",
       "       [1.000e+00, 2.000e+00, 6.700e+01],\n",
       "       [1.000e+00, 2.000e+00, 6.700e+01],\n",
       "       [1.000e+00, 2.000e+00, 6.700e+01],\n",
       "       [1.000e+00, 2.000e+00, 6.700e+01],\n",
       "       [1.000e+00, 2.000e+00, 6.700e+01],\n",
       "       [3.120e+02, 1.540e+02, 4.000e+01],\n",
       "       [1.000e+00, 2.000e+00, 6.700e+01],\n",
       "       [3.100e+01, 3.200e+01, 4.000e+00],\n",
       "       [1.000e+00, 2.000e+00, 6.700e+01],\n",
       "       [1.000e+00, 2.000e+00, 6.700e+01],\n",
       "       [1.000e+00, 2.000e+00, 6.700e+01],\n",
       "       [1.000e+00, 2.000e+00, 6.700e+01],\n",
       "       [1.000e+00, 2.000e+00, 6.700e+01],\n",
       "       [1.000e+00, 2.000e+00, 6.700e+01],\n",
       "       [1.000e+00, 2.000e+00, 6.700e+01],\n",
       "       [1.000e+00, 2.000e+00, 6.700e+01],\n",
       "       [1.000e+00, 2.000e+00, 6.700e+01],\n",
       "       [5.000e+00, 6.000e+00, 4.000e+00],\n",
       "       [1.000e+00, 2.000e+00, 6.700e+01],\n",
       "       [1.000e+00, 2.000e+00, 6.700e+01],\n",
       "       [1.000e+00, 2.000e+00, 6.700e+01],\n",
       "       [1.000e+00, 2.000e+00, 6.700e+01],\n",
       "       [1.000e+00, 2.000e+00, 6.700e+01],\n",
       "       [1.000e+00, 2.000e+00, 6.700e+01],\n",
       "       [1.000e+00, 2.000e+00, 6.700e+01],\n",
       "       [5.960e+02, 5.840e+02, 1.600e+02],\n",
       "       [1.000e+00, 2.000e+00, 6.700e+01],\n",
       "       [1.000e+00, 2.000e+00, 6.700e+01],\n",
       "       [1.000e+00, 2.000e+00, 6.700e+01],\n",
       "       [1.000e+00, 2.000e+00, 6.700e+01],\n",
       "       [1.000e+00, 2.000e+00, 6.700e+01],\n",
       "       [1.000e+00, 2.000e+00, 6.700e+01],\n",
       "       [6.400e+01, 4.300e+01, 4.000e+00],\n",
       "       [1.000e+00, 2.000e+00, 6.700e+01],\n",
       "       [4.000e+00, 2.000e+00, 0.000e+00],\n",
       "       [5.000e+00, 6.000e+00, 4.000e+00],\n",
       "       [1.000e+00, 2.000e+00, 6.700e+01],\n",
       "       [3.890e+02, 4.810e+02, 1.010e+02],\n",
       "       [1.000e+00, 2.000e+00, 6.700e+01],\n",
       "       [4.000e+00, 2.000e+00, 6.700e+01],\n",
       "       [1.000e+00, 2.000e+00, 6.700e+01],\n",
       "       [1.000e+00, 2.000e+00, 6.700e+01],\n",
       "       [2.690e+02, 1.750e+02, 6.700e+01],\n",
       "       [1.000e+00, 2.000e+00, 6.700e+01],\n",
       "       [1.000e+00, 2.000e+00, 6.700e+01],\n",
       "       [1.000e+00, 2.000e+00, 6.700e+01],\n",
       "       [1.000e+00, 2.000e+00, 6.700e+01],\n",
       "       [4.000e+00, 2.000e+00, 0.000e+00],\n",
       "       [1.000e+00, 2.000e+00, 6.700e+01],\n",
       "       [1.000e+00, 2.000e+00, 6.700e+01],\n",
       "       [1.000e+00, 2.000e+00, 6.700e+01],\n",
       "       [1.000e+00, 2.000e+00, 6.700e+01],\n",
       "       [1.000e+00, 2.000e+00, 6.700e+01],\n",
       "       [4.400e+01, 4.300e+01, 2.300e+01],\n",
       "       [1.000e+00, 2.000e+00, 6.700e+01],\n",
       "       [1.000e+00, 2.000e+00, 6.700e+01],\n",
       "       [1.000e+00, 2.000e+00, 6.700e+01],\n",
       "       [1.000e+00, 2.000e+00, 6.700e+01],\n",
       "       [1.000e+00, 2.000e+00, 6.700e+01],\n",
       "       [1.000e+00, 2.000e+00, 6.700e+01],\n",
       "       [1.000e+00, 2.000e+00, 6.700e+01],\n",
       "       [1.019e+03, 1.004e+03, 2.000e+02],\n",
       "       [1.500e+01, 1.800e+01, 3.000e+00],\n",
       "       [1.000e+00, 2.000e+00, 6.700e+01],\n",
       "       [1.000e+00, 2.000e+00, 6.700e+01],\n",
       "       [1.000e+00, 2.000e+00, 6.700e+01],\n",
       "       [9.300e+01, 1.020e+02, 2.200e+01],\n",
       "       [1.000e+00, 2.000e+00, 6.700e+01],\n",
       "       [1.000e+00, 2.000e+00, 6.700e+01],\n",
       "       [1.000e+00, 2.000e+00, 6.700e+01],\n",
       "       [1.000e+00, 2.000e+00, 6.700e+01],\n",
       "       [1.000e+00, 2.000e+00, 6.700e+01],\n",
       "       [1.000e+00, 2.000e+00, 6.700e+01],\n",
       "       [1.000e+00, 2.000e+00, 6.700e+01],\n",
       "       [1.000e+00, 2.000e+00, 6.700e+01],\n",
       "       [1.000e+00, 2.000e+00, 6.700e+01],\n",
       "       [1.000e+00, 2.000e+00, 6.700e+01],\n",
       "       [1.900e+01, 1.000e+01, 1.000e+00],\n",
       "       [1.000e+00, 2.000e+00, 6.700e+01],\n",
       "       [1.000e+00, 2.000e+00, 6.700e+01],\n",
       "       [4.100e+01, 3.600e+01, 6.000e+00],\n",
       "       [1.000e+00, 2.000e+00, 6.700e+01],\n",
       "       [1.000e+00, 2.000e+00, 6.700e+01],\n",
       "       [1.000e+00, 2.000e+00, 6.700e+01],\n",
       "       [1.000e+00, 2.000e+00, 6.700e+01],\n",
       "       [1.000e+00, 2.000e+00, 6.700e+01],\n",
       "       [4.000e+00, 5.000e+00, 1.000e+00],\n",
       "       [1.000e+00, 2.000e+00, 6.700e+01],\n",
       "       [1.019e+03, 1.004e+03, 2.000e+02],\n",
       "       [1.000e+00, 2.000e+00, 6.700e+01],\n",
       "       [1.000e+00, 2.000e+00, 6.700e+01],\n",
       "       [1.000e+00, 2.000e+00, 6.700e+01],\n",
       "       [1.000e+00, 2.000e+00, 6.700e+01],\n",
       "       [1.000e+00, 2.000e+00, 6.700e+01],\n",
       "       [1.000e+00, 2.000e+00, 6.700e+01],\n",
       "       [1.000e+00, 2.000e+00, 6.700e+01],\n",
       "       [1.000e+00, 2.000e+00, 6.700e+01],\n",
       "       [1.000e+00, 2.000e+00, 6.700e+01],\n",
       "       [4.000e+00, 5.000e+00, 1.000e+00],\n",
       "       [1.120e+02, 5.000e+01, 1.000e+00],\n",
       "       [1.000e+00, 2.000e+00, 6.700e+01],\n",
       "       [1.000e+00, 2.000e+00, 6.700e+01],\n",
       "       [1.000e+00, 2.000e+00, 6.700e+01],\n",
       "       [1.000e+00, 2.000e+00, 6.700e+01],\n",
       "       [1.000e+00, 2.000e+00, 6.700e+01],\n",
       "       [1.000e+00, 2.000e+00, 6.700e+01],\n",
       "       [1.000e+00, 2.000e+00, 6.700e+01],\n",
       "       [1.000e+00, 2.000e+00, 6.700e+01],\n",
       "       [2.690e+02, 1.750e+02, 6.700e+01],\n",
       "       [1.000e+00, 2.000e+00, 6.700e+01],\n",
       "       [1.000e+00, 2.000e+00, 6.700e+01],\n",
       "       [1.000e+00, 2.000e+00, 6.700e+01],\n",
       "       [1.000e+00, 2.000e+00, 6.700e+01],\n",
       "       [4.000e+00, 5.000e+00, 1.000e+00],\n",
       "       [1.700e+01, 9.000e+00, 2.000e+00],\n",
       "       [1.000e+00, 2.000e+00, 6.700e+01],\n",
       "       [1.000e+00, 2.000e+00, 6.700e+01],\n",
       "       [1.000e+00, 2.000e+00, 6.700e+01],\n",
       "       [1.000e+00, 2.000e+00, 6.700e+01],\n",
       "       [1.000e+00, 2.000e+00, 6.700e+01],\n",
       "       [1.000e+00, 2.000e+00, 6.700e+01],\n",
       "       [1.000e+00, 2.000e+00, 6.700e+01],\n",
       "       [1.000e+00, 2.000e+00, 6.700e+01],\n",
       "       [5.550e+02, 7.350e+02, 2.000e+02],\n",
       "       [1.000e+00, 2.000e+00, 6.700e+01],\n",
       "       [1.000e+00, 2.000e+00, 6.700e+01],\n",
       "       [5.770e+02, 3.680e+02, 6.700e+01],\n",
       "       [3.100e+01, 3.200e+01, 4.000e+00],\n",
       "       [1.019e+03, 1.004e+03, 2.000e+02],\n",
       "       [1.000e+00, 2.000e+00, 6.700e+01],\n",
       "       [1.019e+03, 9.740e+02, 2.000e+02],\n",
       "       [4.400e+01, 4.300e+01, 2.300e+01],\n",
       "       [1.000e+00, 2.000e+00, 6.700e+01],\n",
       "       [1.000e+00, 2.000e+00, 6.700e+01],\n",
       "       [1.000e+00, 2.000e+00, 6.700e+01],\n",
       "       [1.000e+00, 2.000e+00, 6.700e+01],\n",
       "       [1.000e+00, 2.000e+00, 6.700e+01],\n",
       "       [1.000e+00, 2.000e+00, 6.700e+01],\n",
       "       [1.000e+00, 2.000e+00, 6.700e+01],\n",
       "       [1.500e+01, 1.800e+01, 3.000e+00],\n",
       "       [1.000e+00, 2.000e+00, 6.700e+01],\n",
       "       [1.000e+00, 2.000e+00, 6.700e+01],\n",
       "       [1.000e+00, 2.000e+00, 6.700e+01],\n",
       "       [1.000e+00, 2.000e+00, 6.700e+01],\n",
       "       [1.000e+00, 2.000e+00, 6.700e+01],\n",
       "       [2.680e+02, 2.220e+02, 4.300e+01],\n",
       "       [2.690e+02, 1.750e+02, 6.700e+01],\n",
       "       [1.000e+00, 2.000e+00, 6.700e+01],\n",
       "       [1.000e+00, 2.000e+00, 6.700e+01],\n",
       "       [1.000e+00, 2.000e+00, 6.700e+01],\n",
       "       [1.000e+00, 2.000e+00, 6.700e+01],\n",
       "       [4.000e+00, 2.000e+00, 6.700e+01],\n",
       "       [1.000e+01, 4.000e+00, 2.000e+00],\n",
       "       [5.000e+00, 6.000e+00, 4.000e+00],\n",
       "       [1.000e+00, 2.000e+00, 6.700e+01],\n",
       "       [1.000e+00, 2.000e+00, 6.700e+01],\n",
       "       [1.000e+00, 2.000e+00, 6.700e+01],\n",
       "       [3.000e+00, 3.000e+00, 6.700e+01],\n",
       "       [1.000e+00, 2.000e+00, 6.700e+01],\n",
       "       [1.910e+02, 1.230e+02, 1.200e+01],\n",
       "       [1.000e+00, 2.000e+00, 6.700e+01],\n",
       "       [1.000e+00, 2.000e+00, 6.700e+01],\n",
       "       [1.000e+00, 2.000e+00, 6.700e+01],\n",
       "       [1.000e+00, 2.000e+00, 6.700e+01],\n",
       "       [1.000e+00, 2.000e+00, 6.700e+01],\n",
       "       [1.000e+00, 2.000e+00, 6.700e+01],\n",
       "       [1.000e+00, 2.000e+00, 6.700e+01],\n",
       "       [1.000e+00, 2.000e+00, 6.700e+01],\n",
       "       [4.100e+01, 3.600e+01, 6.000e+00],\n",
       "       [1.000e+00, 2.000e+00, 6.700e+01],\n",
       "       [1.000e+00, 2.000e+00, 6.700e+01],\n",
       "       [1.000e+00, 2.000e+00, 6.700e+01],\n",
       "       [4.100e+01, 3.600e+01, 6.000e+00],\n",
       "       [4.900e+02, 3.850e+02, 7.200e+01],\n",
       "       [7.160e+02, 8.990e+02, 2.000e+02],\n",
       "       [1.000e+00, 2.000e+00, 6.700e+01],\n",
       "       [1.320e+02, 1.310e+02, 2.600e+01],\n",
       "       [3.100e+01, 3.200e+01, 4.000e+00],\n",
       "       [5.770e+02, 3.680e+02, 6.700e+01],\n",
       "       [1.000e+00, 2.000e+00, 6.700e+01],\n",
       "       [1.000e+00, 2.000e+00, 6.700e+01],\n",
       "       [1.260e+02, 1.020e+02, 2.400e+01],\n",
       "       [1.000e+00, 2.000e+00, 6.700e+01],\n",
       "       [1.000e+00, 2.000e+00, 6.700e+01],\n",
       "       [5.770e+02, 3.680e+02, 6.700e+01],\n",
       "       [1.000e+00, 2.000e+00, 6.700e+01],\n",
       "       [1.000e+00, 2.000e+00, 6.700e+01],\n",
       "       [1.019e+03, 1.004e+03, 2.000e+02],\n",
       "       [2.310e+02, 1.280e+02, 2.800e+01],\n",
       "       [1.000e+00, 2.000e+00, 6.700e+01],\n",
       "       [2.690e+02, 1.750e+02, 6.700e+01],\n",
       "       [4.000e+00, 2.000e+00, 0.000e+00],\n",
       "       [1.000e+00, 2.000e+00, 6.700e+01],\n",
       "       [8.000e+00, 1.000e+01, 3.000e+00],\n",
       "       [1.000e+00, 2.000e+00, 6.700e+01],\n",
       "       [1.000e+00, 2.000e+00, 6.700e+01],\n",
       "       [1.019e+03, 1.004e+03, 2.000e+02],\n",
       "       [1.130e+02, 2.040e+02, 7.900e+01],\n",
       "       [1.000e+00, 2.000e+00, 6.700e+01],\n",
       "       [1.000e+00, 2.000e+00, 6.700e+01],\n",
       "       [1.000e+00, 2.000e+00, 6.700e+01],\n",
       "       [1.000e+00, 2.000e+00, 6.700e+01],\n",
       "       [1.000e+00, 2.000e+00, 6.700e+01],\n",
       "       [1.000e+00, 2.000e+00, 6.700e+01],\n",
       "       [3.000e+00, 3.000e+00, 6.700e+01],\n",
       "       [1.000e+00, 2.000e+00, 6.700e+01],\n",
       "       [1.000e+00, 2.000e+00, 6.700e+01],\n",
       "       [1.000e+00, 2.000e+00, 6.700e+01],\n",
       "       [1.000e+00, 2.000e+00, 6.700e+01],\n",
       "       [1.000e+00, 2.000e+00, 6.700e+01],\n",
       "       [1.000e+00, 2.000e+00, 6.700e+01],\n",
       "       [1.000e+00, 2.000e+00, 6.700e+01],\n",
       "       [1.000e+00, 2.000e+00, 6.700e+01],\n",
       "       [1.000e+00, 2.000e+00, 6.700e+01],\n",
       "       [1.000e+00, 2.000e+00, 6.700e+01],\n",
       "       [1.000e+00, 2.000e+00, 6.700e+01],\n",
       "       [1.000e+00, 2.000e+00, 6.700e+01],\n",
       "       [5.630e+02, 6.330e+02, 1.080e+02],\n",
       "       [1.000e+00, 2.000e+00, 6.700e+01],\n",
       "       [1.000e+00, 2.000e+00, 6.700e+01],\n",
       "       [1.000e+00, 2.000e+00, 6.700e+01],\n",
       "       [1.000e+00, 2.000e+00, 6.700e+01],\n",
       "       [7.000e+02, 6.350e+02, 1.810e+02],\n",
       "       [1.000e+00, 2.000e+00, 6.700e+01],\n",
       "       [3.120e+02, 1.540e+02, 4.000e+01],\n",
       "       [1.000e+00, 2.000e+00, 6.700e+01],\n",
       "       [1.000e+00, 2.000e+00, 6.700e+01],\n",
       "       [1.000e+00, 2.000e+00, 6.700e+01],\n",
       "       [5.770e+02, 3.680e+02, 6.700e+01],\n",
       "       [1.000e+00, 2.000e+00, 6.700e+01],\n",
       "       [2.690e+02, 1.750e+02, 6.700e+01],\n",
       "       [1.000e+00, 2.000e+00, 6.700e+01],\n",
       "       [1.000e+00, 2.000e+00, 6.700e+01],\n",
       "       [1.000e+00, 2.000e+00, 6.700e+01],\n",
       "       [1.100e+01, 1.000e+01, 2.000e+00],\n",
       "       [1.000e+00, 2.000e+00, 6.700e+01],\n",
       "       [1.000e+00, 2.000e+00, 6.700e+01],\n",
       "       [1.000e+00, 2.000e+00, 6.700e+01],\n",
       "       [5.960e+02, 5.840e+02, 1.600e+02],\n",
       "       [1.000e+00, 2.000e+00, 6.700e+01],\n",
       "       [1.000e+00, 2.000e+00, 6.700e+01],\n",
       "       [1.000e+00, 2.000e+00, 6.700e+01],\n",
       "       [1.000e+00, 2.000e+00, 6.700e+01],\n",
       "       [1.000e+00, 2.000e+00, 6.700e+01],\n",
       "       [4.000e+00, 2.000e+00, 0.000e+00],\n",
       "       [1.000e+00, 2.000e+00, 6.700e+01],\n",
       "       [4.000e+01, 6.100e+01, 1.400e+01]])"
      ]
     },
     "execution_count": 99,
     "metadata": {},
     "output_type": "execute_result"
    }
   ],
   "source": [
    "tree_model.predict(Y_test)"
   ]
  },
  {
   "cell_type": "code",
   "execution_count": 100,
   "metadata": {},
   "outputs": [
    {
     "data": {
      "text/plain": [
       "0.926408540929906"
      ]
     },
     "execution_count": 100,
     "metadata": {},
     "output_type": "execute_result"
    }
   ],
   "source": [
    "tree_model.score(X_test,Y_test)"
   ]
  },
  {
   "cell_type": "code",
   "execution_count": 101,
   "metadata": {},
   "outputs": [
    {
     "data": {
      "text/plain": [
       "RandomForestRegressor()"
      ]
     },
     "execution_count": 101,
     "metadata": {},
     "output_type": "execute_result"
    }
   ],
   "source": [
    "from sklearn.ensemble import RandomForestRegressor\n",
    "forest_model=RandomForestRegressor()\n",
    "forest_model.fit(X_train,Y_train)"
   ]
  },
  {
   "cell_type": "code",
   "execution_count": 102,
   "metadata": {},
   "outputs": [
    {
     "data": {
      "text/plain": [
       "RandomForestRegressor()"
      ]
     },
     "execution_count": 102,
     "metadata": {},
     "output_type": "execute_result"
    }
   ],
   "source": [
    "forest_model.fit(X_train,Y_train)"
   ]
  },
  {
   "cell_type": "code",
   "execution_count": 103,
   "metadata": {},
   "outputs": [
    {
     "data": {
      "text/plain": [
       "1.35"
      ]
     },
     "execution_count": 103,
     "metadata": {},
     "output_type": "execute_result"
    }
   ],
   "source": [
    "forest_model.predict(Y_test)[0][0]"
   ]
  },
  {
   "cell_type": "code",
   "execution_count": 104,
   "metadata": {},
   "outputs": [
    {
     "data": {
      "text/plain": [
       "0.9436517534388065"
      ]
     },
     "execution_count": 104,
     "metadata": {},
     "output_type": "execute_result"
    }
   ],
   "source": [
    "forest_model.score(X_test,Y_test)"
   ]
  },
  {
   "cell_type": "code",
   "execution_count": 105,
   "metadata": {},
   "outputs": [],
   "source": [
    "from sklearn.model_selection import cross_val_score"
   ]
  },
  {
   "cell_type": "code",
   "execution_count": 106,
   "metadata": {},
   "outputs": [
    {
     "data": {
      "text/plain": [
       "array([-0.41759875,  0.10601996, -0.01783976, -0.00459547, -0.02286336])"
      ]
     },
     "execution_count": 106,
     "metadata": {},
     "output_type": "execute_result"
    }
   ],
   "source": [
    "cross_val_score(LinearRegression(),X,Y)"
   ]
  },
  {
   "cell_type": "code",
   "execution_count": 107,
   "metadata": {},
   "outputs": [
    {
     "data": {
      "text/plain": [
       "array([0.46293473, 0.8657945 , 0.94396059, 0.95282951, 0.94746371])"
      ]
     },
     "execution_count": 107,
     "metadata": {},
     "output_type": "execute_result"
    }
   ],
   "source": [
    "cross_val_score(DecisionTreeRegressor(),X,Y)"
   ]
  },
  {
   "cell_type": "code",
   "execution_count": 108,
   "metadata": {},
   "outputs": [
    {
     "data": {
      "text/plain": [
       "array([0.60237421, 0.89628876, 0.95596312, 0.95958917, 0.95623129])"
      ]
     },
     "execution_count": 108,
     "metadata": {},
     "output_type": "execute_result"
    }
   ],
   "source": [
    "cross_val_score(RandomForestRegressor(),X,Y)"
   ]
  },
  {
   "cell_type": "code",
   "execution_count": 109,
   "metadata": {},
   "outputs": [
    {
     "data": {
      "text/html": [
       "<div>\n",
       "<style scoped>\n",
       "    .dataframe tbody tr th:only-of-type {\n",
       "        vertical-align: middle;\n",
       "    }\n",
       "\n",
       "    .dataframe tbody tr th {\n",
       "        vertical-align: top;\n",
       "    }\n",
       "\n",
       "    .dataframe thead th {\n",
       "        text-align: right;\n",
       "    }\n",
       "</style>\n",
       "<table border=\"1\" class=\"dataframe\">\n",
       "  <thead>\n",
       "    <tr style=\"text-align: right;\">\n",
       "      <th></th>\n",
       "      <th>Year</th>\n",
       "      <th>State</th>\n",
       "      <th>Gender Group</th>\n",
       "      <th>Number Of Vicitms Between 18-30 Years</th>\n",
       "      <th>Number Of Vicitms Between 30-50 Years</th>\n",
       "      <th>Number Of Vicitms Between Above 50 Years</th>\n",
       "    </tr>\n",
       "  </thead>\n",
       "  <tbody>\n",
       "    <tr>\n",
       "      <th>0</th>\n",
       "      <td>2001</td>\n",
       "      <td>0</td>\n",
       "      <td>0</td>\n",
       "      <td>4</td>\n",
       "      <td>2</td>\n",
       "      <td>67</td>\n",
       "    </tr>\n",
       "    <tr>\n",
       "      <th>1</th>\n",
       "      <td>2001</td>\n",
       "      <td>1</td>\n",
       "      <td>0</td>\n",
       "      <td>269</td>\n",
       "      <td>175</td>\n",
       "      <td>67</td>\n",
       "    </tr>\n",
       "    <tr>\n",
       "      <th>2</th>\n",
       "      <td>2001</td>\n",
       "      <td>2</td>\n",
       "      <td>0</td>\n",
       "      <td>10</td>\n",
       "      <td>4</td>\n",
       "      <td>2</td>\n",
       "    </tr>\n",
       "    <tr>\n",
       "      <th>3</th>\n",
       "      <td>2001</td>\n",
       "      <td>3</td>\n",
       "      <td>0</td>\n",
       "      <td>45</td>\n",
       "      <td>37</td>\n",
       "      <td>11</td>\n",
       "    </tr>\n",
       "    <tr>\n",
       "      <th>4</th>\n",
       "      <td>2001</td>\n",
       "      <td>4</td>\n",
       "      <td>0</td>\n",
       "      <td>191</td>\n",
       "      <td>123</td>\n",
       "      <td>12</td>\n",
       "    </tr>\n",
       "    <tr>\n",
       "      <th>...</th>\n",
       "      <td>...</td>\n",
       "      <td>...</td>\n",
       "      <td>...</td>\n",
       "      <td>...</td>\n",
       "      <td>...</td>\n",
       "      <td>...</td>\n",
       "    </tr>\n",
       "    <tr>\n",
       "      <th>1013</th>\n",
       "      <td>2010</td>\n",
       "      <td>28</td>\n",
       "      <td>2</td>\n",
       "      <td>650</td>\n",
       "      <td>839</td>\n",
       "      <td>200</td>\n",
       "    </tr>\n",
       "    <tr>\n",
       "      <th>1014</th>\n",
       "      <td>2010</td>\n",
       "      <td>29</td>\n",
       "      <td>2</td>\n",
       "      <td>60</td>\n",
       "      <td>73</td>\n",
       "      <td>24</td>\n",
       "    </tr>\n",
       "    <tr>\n",
       "      <th>1015</th>\n",
       "      <td>2010</td>\n",
       "      <td>30</td>\n",
       "      <td>2</td>\n",
       "      <td>1019</td>\n",
       "      <td>1004</td>\n",
       "      <td>200</td>\n",
       "    </tr>\n",
       "    <tr>\n",
       "      <th>1016</th>\n",
       "      <td>2010</td>\n",
       "      <td>31</td>\n",
       "      <td>2</td>\n",
       "      <td>91</td>\n",
       "      <td>63</td>\n",
       "      <td>19</td>\n",
       "    </tr>\n",
       "    <tr>\n",
       "      <th>1017</th>\n",
       "      <td>2010</td>\n",
       "      <td>32</td>\n",
       "      <td>2</td>\n",
       "      <td>1019</td>\n",
       "      <td>1004</td>\n",
       "      <td>120</td>\n",
       "    </tr>\n",
       "  </tbody>\n",
       "</table>\n",
       "<p>1018 rows × 6 columns</p>\n",
       "</div>"
      ],
      "text/plain": [
       "      Year  State  Gender Group  Number Of Vicitms Between 18-30 Years  \\\n",
       "0     2001      0             0                                      4   \n",
       "1     2001      1             0                                    269   \n",
       "2     2001      2             0                                     10   \n",
       "3     2001      3             0                                     45   \n",
       "4     2001      4             0                                    191   \n",
       "...    ...    ...           ...                                    ...   \n",
       "1013  2010     28             2                                    650   \n",
       "1014  2010     29             2                                     60   \n",
       "1015  2010     30             2                                   1019   \n",
       "1016  2010     31             2                                     91   \n",
       "1017  2010     32             2                                   1019   \n",
       "\n",
       "      Number Of Vicitms Between 30-50 Years  \\\n",
       "0                                         2   \n",
       "1                                       175   \n",
       "2                                         4   \n",
       "3                                        37   \n",
       "4                                       123   \n",
       "...                                     ...   \n",
       "1013                                    839   \n",
       "1014                                     73   \n",
       "1015                                   1004   \n",
       "1016                                     63   \n",
       "1017                                   1004   \n",
       "\n",
       "      Number Of Vicitms Between Above 50 Years  \n",
       "0                                           67  \n",
       "1                                           67  \n",
       "2                                            2  \n",
       "3                                           11  \n",
       "4                                           12  \n",
       "...                                        ...  \n",
       "1013                                       200  \n",
       "1014                                        24  \n",
       "1015                                       200  \n",
       "1016                                        19  \n",
       "1017                                       120  \n",
       "\n",
       "[1018 rows x 6 columns]"
      ]
     },
     "execution_count": 109,
     "metadata": {},
     "output_type": "execute_result"
    }
   ],
   "source": [
    "crime_df"
   ]
  },
  {
   "cell_type": "code",
   "execution_count": 110,
   "metadata": {},
   "outputs": [],
   "source": [
    "state_code={\n",
    "    \"Andaman & Nicobar Islands\":0,\n",
    "    \"Andhra Pradesh\":1,\n",
    "    \"Arunachal Pradesh\":2,\n",
    "    \"Assam\":3,\n",
    "    \"Bihar\":4,\n",
    "    \"Chandigarh\":5,\n",
    "    \"Chattisgrah\":6,\n",
    "    \"Delhi\":7,\n",
    "    \"Goa\":8,\n",
    "    \"Gujarat\":9,\n",
    "    \"Haryana\":10,\n",
    "    \"Himachal Pradesh\":11,\n",
    "    \"Jammu & Kashmir\":12,\n",
    "    \"Jharkhand\":13,\n",
    "    \"Karnataka\":14,\n",
    "    \"Kerala\":15,\n",
    "    \"Lakshadweep\":16,\n",
    "    \"Madhya Pradesh\":17,\n",
    "    \"Maharashtra\":18,\n",
    "    \"Manipur\":19,\n",
    "    \"Meghalaya\":20,\n",
    "    \"Mizoram\":21,\n",
    "    \"Nagaland\":22,\n",
    "    \"Odisha\":23,\n",
    "    \"Puducherry\":24,\n",
    "    \"Punjab\":25,\n",
    "    \"Rajasthan\":26,\n",
    "    \"Sikkim\":27,\n",
    "    \"Tamil Nadu\":28,\n",
    "    \"Tripura\":29,\n",
    "    \"Uttar Pradesh\":30,\n",
    "    \"Uttarakhand\":31,\n",
    "    \"West Bengal\":32,\n",
    "    \"Dadra & Nagar Haveli\":33,\n",
    "    \"Daman & Diu\":34\n",
    "}"
   ]
  },
  {
   "cell_type": "code",
   "execution_count": 111,
   "metadata": {},
   "outputs": [],
   "source": [
    "gender_group_code={\n",
    "    \"Murder - Female Victims\":0,\n",
    "    \"Murder - Male Victims\":1,\n",
    "    \"Murder - Total Victims\":2\n",
    "}"
   ]
  },
  {
   "cell_type": "code",
   "execution_count": 112,
   "metadata": {},
   "outputs": [],
   "source": [
    "def Find_Victims(state, year, gender):\n",
    "    state_encode=state_code.get(state)\n",
    "    gender_encode=gender_group_code.get(gender)\n",
    "    features=[year,state_encode,gender_encode]\n",
    "    input_data=np.array(features)\n",
    "    input_data_reshape=input_data.reshape(1,-1)\n",
    "    prediction_data=forest_model.predict(input_data_reshape)\n",
    "    print(\"Number of victims( For age group of 18-30 years): \", int(prediction_data[0][0]), \"\\n\")\n",
    "    print(\"Number of victims( For age group of 30-50 years): \", int(prediction_data[0][1]), \"\\n\")\n",
    "    print(\"Number of victims( For age group above 50 years): \", int(prediction_data[0][2]), \"\\n\")"
   ]
  },
  {
   "cell_type": "code",
   "execution_count": 113,
   "metadata": {},
   "outputs": [
    {
     "name": "stdout",
     "output_type": "stream",
     "text": [
      "Number of victims( For age group of 18-30 years):  33 \n",
      "\n",
      "Number of victims( For age group of 30-50 years):  97 \n",
      "\n",
      "Number of victims( For age group above 50 years):  66 \n",
      "\n"
     ]
    }
   ],
   "source": [
    "Find_Victims(\"Sikkim\",2022, \"Murder - Female Victims\")"
   ]
  },
  {
   "cell_type": "code",
   "execution_count": 114,
   "metadata": {},
   "outputs": [
    {
     "name": "stdout",
     "output_type": "stream",
     "text": [
      "Number of victims( For age group of 18-30 years):  698 \n",
      "\n",
      "Number of victims( For age group of 30-50 years):  416 \n",
      "\n",
      "Number of victims( For age group above 50 years):  71 \n",
      "\n"
     ]
    }
   ],
   "source": [
    "Find_Victims(\"Assam\",2005,\"Murder - Male Victims\")"
   ]
  },
  {
   "cell_type": "code",
   "execution_count": 115,
   "metadata": {},
   "outputs": [
    {
     "name": "stdout",
     "output_type": "stream",
     "text": [
      "Number of victims( For age group of 18-30 years):  17 \n",
      "\n",
      "Number of victims( For age group of 30-50 years):  8 \n",
      "\n",
      "Number of victims( For age group above 50 years):  1 \n",
      "\n"
     ]
    }
   ],
   "source": [
    "Find_Victims(\"Mizoram\",2007,\"Murder - Male Victims\")"
   ]
  },
  {
   "cell_type": "code",
   "execution_count": 116,
   "metadata": {},
   "outputs": [
    {
     "name": "stdout",
     "output_type": "stream",
     "text": [
      "Number of victims( For age group of 18-30 years):  13 \n",
      "\n",
      "Number of victims( For age group of 30-50 years):  13 \n",
      "\n",
      "Number of victims( For age group above 50 years):  4 \n",
      "\n"
     ]
    }
   ],
   "source": [
    "Find_Victims(\"Mizoram\",2004,\"Murder - Male Victims\")"
   ]
  },
  {
   "cell_type": "code",
   "execution_count": 117,
   "metadata": {},
   "outputs": [
    {
     "name": "stdout",
     "output_type": "stream",
     "text": [
      "Number of victims( For age group of 18-30 years):  37 \n",
      "\n",
      "Number of victims( For age group of 30-50 years):  29 \n",
      "\n",
      "Number of victims( For age group above 50 years):  0 \n",
      "\n"
     ]
    }
   ],
   "source": [
    "Find_Victims(\"Nagaland\",2004,\"Murder - Male Victims\")"
   ]
  },
  {
   "cell_type": "code",
   "execution_count": 118,
   "metadata": {},
   "outputs": [
    {
     "name": "stdout",
     "output_type": "stream",
     "text": [
      "Number of victims( For age group of 18-30 years):  65 \n",
      "\n",
      "Number of victims( For age group of 30-50 years):  50 \n",
      "\n",
      "Number of victims( For age group above 50 years):  2 \n",
      "\n"
     ]
    }
   ],
   "source": [
    "Find_Victims(\"Nagaland\",2008,\"Murder - Male Victims\")"
   ]
  },
  {
   "cell_type": "code",
   "execution_count": 119,
   "metadata": {},
   "outputs": [
    {
     "name": "stdout",
     "output_type": "stream",
     "text": [
      "Number of victims( For age group of 18-30 years):  85 \n",
      "\n",
      "Number of victims( For age group of 30-50 years):  53 \n",
      "\n",
      "Number of victims( For age group above 50 years):  12 \n",
      "\n"
     ]
    }
   ],
   "source": [
    "Find_Victims(\"Chandigarh\",2013,\"Murder - Female Victims\")"
   ]
  },
  {
   "cell_type": "code",
   "execution_count": 120,
   "metadata": {},
   "outputs": [
    {
     "name": "stdout",
     "output_type": "stream",
     "text": [
      "Number of victims( For age group of 18-30 years):  8 \n",
      "\n",
      "Number of victims( For age group of 30-50 years):  243 \n",
      "\n",
      "Number of victims( For age group above 50 years):  64 \n",
      "\n"
     ]
    }
   ],
   "source": [
    "Find_Victims(\"Daman & Diu\",2009,\"Murder - Female Victims\")"
   ]
  },
  {
   "cell_type": "code",
   "execution_count": 121,
   "metadata": {},
   "outputs": [
    {
     "name": "stdout",
     "output_type": "stream",
     "text": [
      "Number of victims( For age group of 18-30 years):  5 \n",
      "\n",
      "Number of victims( For age group of 30-50 years):  265 \n",
      "\n",
      "Number of victims( For age group above 50 years):  64 \n",
      "\n"
     ]
    }
   ],
   "source": [
    "Find_Victims(\"Daman & Diu\",2011,\"Murder - Female Victims\")"
   ]
  },
  {
   "cell_type": "code",
   "execution_count": 122,
   "metadata": {},
   "outputs": [
    {
     "name": "stdout",
     "output_type": "stream",
     "text": [
      "Number of victims( For age group of 18-30 years):  8 \n",
      "\n",
      "Number of victims( For age group of 30-50 years):  4 \n",
      "\n",
      "Number of victims( For age group above 50 years):  1 \n",
      "\n"
     ]
    }
   ],
   "source": [
    "Find_Victims(\"Arunachal Pradesh\",2002,\"Murder - Female Victims\")"
   ]
  },
  {
   "cell_type": "code",
   "execution_count": 123,
   "metadata": {},
   "outputs": [
    {
     "data": {
      "text/plain": [
       "array([[39.94, 26.6 ,  3.58]])"
      ]
     },
     "execution_count": 123,
     "metadata": {},
     "output_type": "execute_result"
    }
   ],
   "source": [
    "forest_model.predict([[13,2004,0]])"
   ]
  },
  {
   "cell_type": "code",
   "execution_count": null,
   "metadata": {},
   "outputs": [],
   "source": [
    "forest_model.predict([[13,2004,0]])"
   ]
  },
  {
   "cell_type": "code",
   "execution_count": 124,
   "metadata": {},
   "outputs": [
    {
     "data": {
      "text/plain": [
       "array([[ 1.5 ,  2.58, 37.27]])"
      ]
     },
     "execution_count": 124,
     "metadata": {},
     "output_type": "execute_result"
    }
   ],
   "source": [
    "forest_model.predict([[3,2007,1]])"
   ]
  },
  {
   "cell_type": "code",
   "execution_count": 125,
   "metadata": {},
   "outputs": [
    {
     "data": {
      "text/plain": [
       "array([[39.94, 26.6 ,  3.58]])"
      ]
     },
     "execution_count": 125,
     "metadata": {},
     "output_type": "execute_result"
    }
   ],
   "source": [
    "forest_model.predict([[10,2007,0]])"
   ]
  },
  {
   "cell_type": "code",
   "execution_count": 126,
   "metadata": {},
   "outputs": [
    {
     "data": {
      "text/plain": [
       "array([[39.94, 26.6 ,  3.58]])"
      ]
     },
     "execution_count": 126,
     "metadata": {},
     "output_type": "execute_result"
    }
   ],
   "source": [
    "forest_model.predict([[1,2004,0]])"
   ]
  },
  {
   "cell_type": "code",
   "execution_count": 127,
   "metadata": {},
   "outputs": [
    {
     "data": {
      "text/plain": [
       "array([[39.94, 26.6 ,  3.58]])"
      ]
     },
     "execution_count": 127,
     "metadata": {},
     "output_type": "execute_result"
    }
   ],
   "source": [
    "forest_model.predict([[0,2007,0]])"
   ]
  },
  {
   "cell_type": "code",
   "execution_count": 128,
   "metadata": {},
   "outputs": [],
   "source": [
    "\n",
    "import pickle\n",
    "with open(\"crime_rate.pickle\", \"wb\") as f:\n",
    "    pickle.dump(forest_model, f)\n"
   ]
  },
  {
   "cell_type": "code",
   "execution_count": null,
   "metadata": {},
   "outputs": [],
   "source": []
  },
  {
   "cell_type": "code",
   "execution_count": null,
   "metadata": {},
   "outputs": [],
   "source": []
  },
  {
   "cell_type": "code",
   "execution_count": null,
   "metadata": {},
   "outputs": [],
   "source": []
  },
  {
   "cell_type": "code",
   "execution_count": null,
   "metadata": {},
   "outputs": [],
   "source": []
  },
  {
   "cell_type": "code",
   "execution_count": null,
   "metadata": {},
   "outputs": [],
   "source": []
  },
  {
   "cell_type": "code",
   "execution_count": null,
   "metadata": {},
   "outputs": [],
   "source": []
  }
 ],
 "metadata": {
  "kernelspec": {
   "display_name": "Python 3",
   "language": "python",
   "name": "python3"
  },
  "language_info": {
   "codemirror_mode": {
    "name": "ipython",
    "version": 3
   },
   "file_extension": ".py",
   "mimetype": "text/x-python",
   "name": "python",
   "nbconvert_exporter": "python",
   "pygments_lexer": "ipython3",
   "version": "3.8.5"
  }
 },
 "nbformat": 4,
 "nbformat_minor": 4
}
